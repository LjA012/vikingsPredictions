{
 "cells": [
  {
   "cell_type": "code",
   "execution_count": 114,
   "metadata": {},
   "outputs": [],
   "source": [
    "import pandas as pd\n",
    "import numpy as np\n",
    "import matplotlib.pyplot as plt\n",
    "import seaborn as sns\n",
    "sns.set()\n",
    "\n",
    "from sklearn.linear_model import LogisticRegression\n",
    "from sklearn.model_selection import train_test_split, KFold, StratifiedKFold, GridSearchCV, cross_val_score\n",
    "from sklearn.neighbors import KNeighborsClassifier\n",
    "from sklearn.tree import DecisionTreeClassifier\n",
    "from sklearn.ensemble import RandomForestClassifier\n",
    "from sklearn.ensemble import AdaBoostClassifier\n",
    "from sklearn.svm import SVC\n",
    "from sklearn.metrics import roc_auc_score, accuracy_score, recall_score, f1_score, precision_score, roc_curve, confusion_matrix, classification_report\n",
    "from sklearn.preprocessing import MinMaxScaler, StandardScaler\n",
    "from scipy import stats\n",
    "from sklearn import ensemble\n",
    "\n",
    "import warnings\n",
    "warnings.filterwarnings('ignore')"
   ]
  },
  {
   "cell_type": "code",
   "execution_count": 2,
   "metadata": {},
   "outputs": [
    {
     "data": {
      "text/html": [
       "<div>\n",
       "<style scoped>\n",
       "    .dataframe tbody tr th:only-of-type {\n",
       "        vertical-align: middle;\n",
       "    }\n",
       "\n",
       "    .dataframe tbody tr th {\n",
       "        vertical-align: top;\n",
       "    }\n",
       "\n",
       "    .dataframe thead th {\n",
       "        text-align: right;\n",
       "    }\n",
       "</style>\n",
       "<table border=\"1\" class=\"dataframe\">\n",
       "  <thead>\n",
       "    <tr style=\"text-align: right;\">\n",
       "      <th></th>\n",
       "      <th>Unnamed: 0</th>\n",
       "      <th>posteam</th>\n",
       "      <th>home_team</th>\n",
       "      <th>home_wp</th>\n",
       "      <th>away_wp</th>\n",
       "      <th>yardline_100</th>\n",
       "      <th>home_timeouts_remaining</th>\n",
       "      <th>away_timeouts_remaining</th>\n",
       "      <th>quarter_seconds_remaining</th>\n",
       "      <th>half_seconds_remaining</th>\n",
       "      <th>game_seconds_remaining</th>\n",
       "      <th>qtr</th>\n",
       "      <th>down</th>\n",
       "      <th>goal_to_go</th>\n",
       "      <th>ydstogo</th>\n",
       "      <th>play_type</th>\n",
       "      <th>score_differential</th>\n",
       "      <th>shotgun</th>\n",
       "      <th>no_huddle</th>\n",
       "    </tr>\n",
       "  </thead>\n",
       "  <tbody>\n",
       "    <tr>\n",
       "      <th>0</th>\n",
       "      <td>943</td>\n",
       "      <td>MIN</td>\n",
       "      <td>MIN</td>\n",
       "      <td>0.50</td>\n",
       "      <td>0.50</td>\n",
       "      <td>75.0</td>\n",
       "      <td>3</td>\n",
       "      <td>3</td>\n",
       "      <td>900.0</td>\n",
       "      <td>1800.0</td>\n",
       "      <td>3600.0</td>\n",
       "      <td>1</td>\n",
       "      <td>1.0</td>\n",
       "      <td>0.0</td>\n",
       "      <td>10</td>\n",
       "      <td>pass</td>\n",
       "      <td>0.0</td>\n",
       "      <td>1</td>\n",
       "      <td>0</td>\n",
       "    </tr>\n",
       "    <tr>\n",
       "      <th>1</th>\n",
       "      <td>944</td>\n",
       "      <td>MIN</td>\n",
       "      <td>MIN</td>\n",
       "      <td>0.54</td>\n",
       "      <td>0.46</td>\n",
       "      <td>66.0</td>\n",
       "      <td>3</td>\n",
       "      <td>3</td>\n",
       "      <td>861.0</td>\n",
       "      <td>1761.0</td>\n",
       "      <td>3561.0</td>\n",
       "      <td>1</td>\n",
       "      <td>2.0</td>\n",
       "      <td>0.0</td>\n",
       "      <td>1</td>\n",
       "      <td>run</td>\n",
       "      <td>0.0</td>\n",
       "      <td>0</td>\n",
       "      <td>0</td>\n",
       "    </tr>\n",
       "    <tr>\n",
       "      <th>2</th>\n",
       "      <td>945</td>\n",
       "      <td>MIN</td>\n",
       "      <td>MIN</td>\n",
       "      <td>0.54</td>\n",
       "      <td>0.46</td>\n",
       "      <td>64.0</td>\n",
       "      <td>3</td>\n",
       "      <td>3</td>\n",
       "      <td>822.0</td>\n",
       "      <td>1722.0</td>\n",
       "      <td>3522.0</td>\n",
       "      <td>1</td>\n",
       "      <td>1.0</td>\n",
       "      <td>0.0</td>\n",
       "      <td>10</td>\n",
       "      <td>pass</td>\n",
       "      <td>0.0</td>\n",
       "      <td>0</td>\n",
       "      <td>0</td>\n",
       "    </tr>\n",
       "    <tr>\n",
       "      <th>3</th>\n",
       "      <td>946</td>\n",
       "      <td>MIN</td>\n",
       "      <td>MIN</td>\n",
       "      <td>0.57</td>\n",
       "      <td>0.43</td>\n",
       "      <td>52.0</td>\n",
       "      <td>3</td>\n",
       "      <td>3</td>\n",
       "      <td>787.0</td>\n",
       "      <td>1687.0</td>\n",
       "      <td>3487.0</td>\n",
       "      <td>1</td>\n",
       "      <td>1.0</td>\n",
       "      <td>0.0</td>\n",
       "      <td>10</td>\n",
       "      <td>run</td>\n",
       "      <td>0.0</td>\n",
       "      <td>0</td>\n",
       "      <td>0</td>\n",
       "    </tr>\n",
       "    <tr>\n",
       "      <th>4</th>\n",
       "      <td>947</td>\n",
       "      <td>MIN</td>\n",
       "      <td>MIN</td>\n",
       "      <td>0.55</td>\n",
       "      <td>0.45</td>\n",
       "      <td>51.0</td>\n",
       "      <td>3</td>\n",
       "      <td>3</td>\n",
       "      <td>750.0</td>\n",
       "      <td>1650.0</td>\n",
       "      <td>3450.0</td>\n",
       "      <td>1</td>\n",
       "      <td>2.0</td>\n",
       "      <td>0.0</td>\n",
       "      <td>9</td>\n",
       "      <td>run</td>\n",
       "      <td>0.0</td>\n",
       "      <td>1</td>\n",
       "      <td>0</td>\n",
       "    </tr>\n",
       "  </tbody>\n",
       "</table>\n",
       "</div>"
      ],
      "text/plain": [
       "   Unnamed: 0 posteam home_team  home_wp  away_wp  yardline_100  \\\n",
       "0         943     MIN       MIN     0.50     0.50          75.0   \n",
       "1         944     MIN       MIN     0.54     0.46          66.0   \n",
       "2         945     MIN       MIN     0.54     0.46          64.0   \n",
       "3         946     MIN       MIN     0.57     0.43          52.0   \n",
       "4         947     MIN       MIN     0.55     0.45          51.0   \n",
       "\n",
       "   home_timeouts_remaining  away_timeouts_remaining  \\\n",
       "0                        3                        3   \n",
       "1                        3                        3   \n",
       "2                        3                        3   \n",
       "3                        3                        3   \n",
       "4                        3                        3   \n",
       "\n",
       "   quarter_seconds_remaining  half_seconds_remaining  game_seconds_remaining  \\\n",
       "0                      900.0                  1800.0                  3600.0   \n",
       "1                      861.0                  1761.0                  3561.0   \n",
       "2                      822.0                  1722.0                  3522.0   \n",
       "3                      787.0                  1687.0                  3487.0   \n",
       "4                      750.0                  1650.0                  3450.0   \n",
       "\n",
       "   qtr  down  goal_to_go  ydstogo play_type  score_differential  shotgun  \\\n",
       "0    1   1.0         0.0       10      pass                 0.0        1   \n",
       "1    1   2.0         0.0        1       run                 0.0        0   \n",
       "2    1   1.0         0.0       10      pass                 0.0        0   \n",
       "3    1   1.0         0.0       10       run                 0.0        0   \n",
       "4    1   2.0         0.0        9       run                 0.0        1   \n",
       "\n",
       "   no_huddle  \n",
       "0          0  \n",
       "1          0  \n",
       "2          0  \n",
       "3          0  \n",
       "4          0  "
      ]
     },
     "execution_count": 2,
     "metadata": {},
     "output_type": "execute_result"
    }
   ],
   "source": [
    "df = pd.read_csv('final_minn.csv')\n",
    "df.head()"
   ]
  },
  {
   "cell_type": "code",
   "execution_count": 3,
   "metadata": {},
   "outputs": [],
   "source": [
    "df.set_index('Unnamed: 0', inplace=True)"
   ]
  },
  {
   "cell_type": "code",
   "execution_count": 4,
   "metadata": {},
   "outputs": [
    {
     "data": {
      "text/html": [
       "<div>\n",
       "<style scoped>\n",
       "    .dataframe tbody tr th:only-of-type {\n",
       "        vertical-align: middle;\n",
       "    }\n",
       "\n",
       "    .dataframe tbody tr th {\n",
       "        vertical-align: top;\n",
       "    }\n",
       "\n",
       "    .dataframe thead th {\n",
       "        text-align: right;\n",
       "    }\n",
       "</style>\n",
       "<table border=\"1\" class=\"dataframe\">\n",
       "  <thead>\n",
       "    <tr style=\"text-align: right;\">\n",
       "      <th></th>\n",
       "      <th>posteam</th>\n",
       "      <th>home_team</th>\n",
       "      <th>home_wp</th>\n",
       "      <th>away_wp</th>\n",
       "      <th>yardline_100</th>\n",
       "      <th>home_timeouts_remaining</th>\n",
       "      <th>away_timeouts_remaining</th>\n",
       "      <th>quarter_seconds_remaining</th>\n",
       "      <th>half_seconds_remaining</th>\n",
       "      <th>game_seconds_remaining</th>\n",
       "      <th>qtr</th>\n",
       "      <th>down</th>\n",
       "      <th>goal_to_go</th>\n",
       "      <th>ydstogo</th>\n",
       "      <th>play_type</th>\n",
       "      <th>score_differential</th>\n",
       "      <th>shotgun</th>\n",
       "      <th>no_huddle</th>\n",
       "    </tr>\n",
       "    <tr>\n",
       "      <th>Unnamed: 0</th>\n",
       "      <th></th>\n",
       "      <th></th>\n",
       "      <th></th>\n",
       "      <th></th>\n",
       "      <th></th>\n",
       "      <th></th>\n",
       "      <th></th>\n",
       "      <th></th>\n",
       "      <th></th>\n",
       "      <th></th>\n",
       "      <th></th>\n",
       "      <th></th>\n",
       "      <th></th>\n",
       "      <th></th>\n",
       "      <th></th>\n",
       "      <th></th>\n",
       "      <th></th>\n",
       "      <th></th>\n",
       "    </tr>\n",
       "  </thead>\n",
       "  <tbody>\n",
       "    <tr>\n",
       "      <th>943</th>\n",
       "      <td>MIN</td>\n",
       "      <td>MIN</td>\n",
       "      <td>0.50</td>\n",
       "      <td>0.50</td>\n",
       "      <td>75.0</td>\n",
       "      <td>3</td>\n",
       "      <td>3</td>\n",
       "      <td>900.0</td>\n",
       "      <td>1800.0</td>\n",
       "      <td>3600.0</td>\n",
       "      <td>1</td>\n",
       "      <td>1.0</td>\n",
       "      <td>0.0</td>\n",
       "      <td>10</td>\n",
       "      <td>pass</td>\n",
       "      <td>0.0</td>\n",
       "      <td>1</td>\n",
       "      <td>0</td>\n",
       "    </tr>\n",
       "    <tr>\n",
       "      <th>944</th>\n",
       "      <td>MIN</td>\n",
       "      <td>MIN</td>\n",
       "      <td>0.54</td>\n",
       "      <td>0.46</td>\n",
       "      <td>66.0</td>\n",
       "      <td>3</td>\n",
       "      <td>3</td>\n",
       "      <td>861.0</td>\n",
       "      <td>1761.0</td>\n",
       "      <td>3561.0</td>\n",
       "      <td>1</td>\n",
       "      <td>2.0</td>\n",
       "      <td>0.0</td>\n",
       "      <td>1</td>\n",
       "      <td>run</td>\n",
       "      <td>0.0</td>\n",
       "      <td>0</td>\n",
       "      <td>0</td>\n",
       "    </tr>\n",
       "    <tr>\n",
       "      <th>945</th>\n",
       "      <td>MIN</td>\n",
       "      <td>MIN</td>\n",
       "      <td>0.54</td>\n",
       "      <td>0.46</td>\n",
       "      <td>64.0</td>\n",
       "      <td>3</td>\n",
       "      <td>3</td>\n",
       "      <td>822.0</td>\n",
       "      <td>1722.0</td>\n",
       "      <td>3522.0</td>\n",
       "      <td>1</td>\n",
       "      <td>1.0</td>\n",
       "      <td>0.0</td>\n",
       "      <td>10</td>\n",
       "      <td>pass</td>\n",
       "      <td>0.0</td>\n",
       "      <td>0</td>\n",
       "      <td>0</td>\n",
       "    </tr>\n",
       "    <tr>\n",
       "      <th>946</th>\n",
       "      <td>MIN</td>\n",
       "      <td>MIN</td>\n",
       "      <td>0.57</td>\n",
       "      <td>0.43</td>\n",
       "      <td>52.0</td>\n",
       "      <td>3</td>\n",
       "      <td>3</td>\n",
       "      <td>787.0</td>\n",
       "      <td>1687.0</td>\n",
       "      <td>3487.0</td>\n",
       "      <td>1</td>\n",
       "      <td>1.0</td>\n",
       "      <td>0.0</td>\n",
       "      <td>10</td>\n",
       "      <td>run</td>\n",
       "      <td>0.0</td>\n",
       "      <td>0</td>\n",
       "      <td>0</td>\n",
       "    </tr>\n",
       "    <tr>\n",
       "      <th>947</th>\n",
       "      <td>MIN</td>\n",
       "      <td>MIN</td>\n",
       "      <td>0.55</td>\n",
       "      <td>0.45</td>\n",
       "      <td>51.0</td>\n",
       "      <td>3</td>\n",
       "      <td>3</td>\n",
       "      <td>750.0</td>\n",
       "      <td>1650.0</td>\n",
       "      <td>3450.0</td>\n",
       "      <td>1</td>\n",
       "      <td>2.0</td>\n",
       "      <td>0.0</td>\n",
       "      <td>9</td>\n",
       "      <td>run</td>\n",
       "      <td>0.0</td>\n",
       "      <td>1</td>\n",
       "      <td>0</td>\n",
       "    </tr>\n",
       "  </tbody>\n",
       "</table>\n",
       "</div>"
      ],
      "text/plain": [
       "           posteam home_team  home_wp  away_wp  yardline_100  \\\n",
       "Unnamed: 0                                                     \n",
       "943            MIN       MIN     0.50     0.50          75.0   \n",
       "944            MIN       MIN     0.54     0.46          66.0   \n",
       "945            MIN       MIN     0.54     0.46          64.0   \n",
       "946            MIN       MIN     0.57     0.43          52.0   \n",
       "947            MIN       MIN     0.55     0.45          51.0   \n",
       "\n",
       "            home_timeouts_remaining  away_timeouts_remaining  \\\n",
       "Unnamed: 0                                                     \n",
       "943                               3                        3   \n",
       "944                               3                        3   \n",
       "945                               3                        3   \n",
       "946                               3                        3   \n",
       "947                               3                        3   \n",
       "\n",
       "            quarter_seconds_remaining  half_seconds_remaining  \\\n",
       "Unnamed: 0                                                      \n",
       "943                             900.0                  1800.0   \n",
       "944                             861.0                  1761.0   \n",
       "945                             822.0                  1722.0   \n",
       "946                             787.0                  1687.0   \n",
       "947                             750.0                  1650.0   \n",
       "\n",
       "            game_seconds_remaining  qtr  down  goal_to_go  ydstogo play_type  \\\n",
       "Unnamed: 0                                                                     \n",
       "943                         3600.0    1   1.0         0.0       10      pass   \n",
       "944                         3561.0    1   2.0         0.0        1       run   \n",
       "945                         3522.0    1   1.0         0.0       10      pass   \n",
       "946                         3487.0    1   1.0         0.0       10       run   \n",
       "947                         3450.0    1   2.0         0.0        9       run   \n",
       "\n",
       "            score_differential  shotgun  no_huddle  \n",
       "Unnamed: 0                                          \n",
       "943                        0.0        1          0  \n",
       "944                        0.0        0          0  \n",
       "945                        0.0        0          0  \n",
       "946                        0.0        0          0  \n",
       "947                        0.0        1          0  "
      ]
     },
     "execution_count": 4,
     "metadata": {},
     "output_type": "execute_result"
    }
   ],
   "source": [
    "df.head()"
   ]
  },
  {
   "cell_type": "code",
   "execution_count": 5,
   "metadata": {},
   "outputs": [
    {
     "name": "stdout",
     "output_type": "stream",
     "text": [
      "<class 'pandas.core.frame.DataFrame'>\n",
      "Int64Index: 996 entries, 943 to 44275\n",
      "Data columns (total 18 columns):\n",
      "posteam                      996 non-null object\n",
      "home_team                    996 non-null object\n",
      "home_wp                      996 non-null float64\n",
      "away_wp                      996 non-null float64\n",
      "yardline_100                 996 non-null float64\n",
      "home_timeouts_remaining      996 non-null int64\n",
      "away_timeouts_remaining      996 non-null int64\n",
      "quarter_seconds_remaining    996 non-null float64\n",
      "half_seconds_remaining       996 non-null float64\n",
      "game_seconds_remaining       996 non-null float64\n",
      "qtr                          996 non-null int64\n",
      "down                         996 non-null float64\n",
      "goal_to_go                   996 non-null float64\n",
      "ydstogo                      996 non-null int64\n",
      "play_type                    996 non-null object\n",
      "score_differential           996 non-null float64\n",
      "shotgun                      996 non-null int64\n",
      "no_huddle                    996 non-null int64\n",
      "dtypes: float64(9), int64(6), object(3)\n",
      "memory usage: 147.8+ KB\n"
     ]
    }
   ],
   "source": [
    "df.info()"
   ]
  },
  {
   "cell_type": "code",
   "execution_count": 6,
   "metadata": {},
   "outputs": [
    {
     "data": {
      "text/html": [
       "<div>\n",
       "<style scoped>\n",
       "    .dataframe tbody tr th:only-of-type {\n",
       "        vertical-align: middle;\n",
       "    }\n",
       "\n",
       "    .dataframe tbody tr th {\n",
       "        vertical-align: top;\n",
       "    }\n",
       "\n",
       "    .dataframe thead th {\n",
       "        text-align: right;\n",
       "    }\n",
       "</style>\n",
       "<table border=\"1\" class=\"dataframe\">\n",
       "  <thead>\n",
       "    <tr style=\"text-align: right;\">\n",
       "      <th></th>\n",
       "      <th>home_wp</th>\n",
       "      <th>away_wp</th>\n",
       "      <th>yardline_100</th>\n",
       "      <th>home_timeouts_remaining</th>\n",
       "      <th>away_timeouts_remaining</th>\n",
       "      <th>quarter_seconds_remaining</th>\n",
       "      <th>half_seconds_remaining</th>\n",
       "      <th>game_seconds_remaining</th>\n",
       "      <th>qtr</th>\n",
       "      <th>down</th>\n",
       "      <th>goal_to_go</th>\n",
       "      <th>ydstogo</th>\n",
       "      <th>score_differential</th>\n",
       "      <th>shotgun</th>\n",
       "      <th>no_huddle</th>\n",
       "    </tr>\n",
       "  </thead>\n",
       "  <tbody>\n",
       "    <tr>\n",
       "      <th>count</th>\n",
       "      <td>996.000000</td>\n",
       "      <td>996.000000</td>\n",
       "      <td>996.000000</td>\n",
       "      <td>996.000000</td>\n",
       "      <td>996.000000</td>\n",
       "      <td>996.000000</td>\n",
       "      <td>996.000000</td>\n",
       "      <td>996.000000</td>\n",
       "      <td>996.000000</td>\n",
       "      <td>996.000000</td>\n",
       "      <td>996.000000</td>\n",
       "      <td>996.000000</td>\n",
       "      <td>996.000000</td>\n",
       "      <td>996.000000</td>\n",
       "      <td>996.000000</td>\n",
       "    </tr>\n",
       "    <tr>\n",
       "      <th>mean</th>\n",
       "      <td>0.542952</td>\n",
       "      <td>0.457048</td>\n",
       "      <td>52.161647</td>\n",
       "      <td>2.508032</td>\n",
       "      <td>2.556225</td>\n",
       "      <td>417.201807</td>\n",
       "      <td>822.021084</td>\n",
       "      <td>1693.105422</td>\n",
       "      <td>2.595382</td>\n",
       "      <td>1.808233</td>\n",
       "      <td>0.046185</td>\n",
       "      <td>8.530120</td>\n",
       "      <td>-2.003012</td>\n",
       "      <td>0.607430</td>\n",
       "      <td>0.068273</td>\n",
       "    </tr>\n",
       "    <tr>\n",
       "      <th>std</th>\n",
       "      <td>0.295584</td>\n",
       "      <td>0.295584</td>\n",
       "      <td>23.801292</td>\n",
       "      <td>0.805094</td>\n",
       "      <td>0.794359</td>\n",
       "      <td>268.666737</td>\n",
       "      <td>555.607899</td>\n",
       "      <td>1069.102136</td>\n",
       "      <td>1.146521</td>\n",
       "      <td>0.848512</td>\n",
       "      <td>0.209990</td>\n",
       "      <td>3.936952</td>\n",
       "      <td>10.265373</td>\n",
       "      <td>0.488568</td>\n",
       "      <td>0.252341</td>\n",
       "    </tr>\n",
       "    <tr>\n",
       "      <th>min</th>\n",
       "      <td>0.000000</td>\n",
       "      <td>0.000000</td>\n",
       "      <td>1.000000</td>\n",
       "      <td>0.000000</td>\n",
       "      <td>0.000000</td>\n",
       "      <td>1.000000</td>\n",
       "      <td>1.000000</td>\n",
       "      <td>1.000000</td>\n",
       "      <td>1.000000</td>\n",
       "      <td>1.000000</td>\n",
       "      <td>0.000000</td>\n",
       "      <td>0.000000</td>\n",
       "      <td>-27.000000</td>\n",
       "      <td>0.000000</td>\n",
       "      <td>0.000000</td>\n",
       "    </tr>\n",
       "    <tr>\n",
       "      <th>25%</th>\n",
       "      <td>0.320000</td>\n",
       "      <td>0.200000</td>\n",
       "      <td>33.000000</td>\n",
       "      <td>2.000000</td>\n",
       "      <td>2.000000</td>\n",
       "      <td>173.000000</td>\n",
       "      <td>322.250000</td>\n",
       "      <td>727.500000</td>\n",
       "      <td>2.000000</td>\n",
       "      <td>1.000000</td>\n",
       "      <td>0.000000</td>\n",
       "      <td>6.000000</td>\n",
       "      <td>-9.000000</td>\n",
       "      <td>0.000000</td>\n",
       "      <td>0.000000</td>\n",
       "    </tr>\n",
       "    <tr>\n",
       "      <th>50%</th>\n",
       "      <td>0.570000</td>\n",
       "      <td>0.430000</td>\n",
       "      <td>57.000000</td>\n",
       "      <td>3.000000</td>\n",
       "      <td>3.000000</td>\n",
       "      <td>401.000000</td>\n",
       "      <td>808.000000</td>\n",
       "      <td>1753.000000</td>\n",
       "      <td>3.000000</td>\n",
       "      <td>2.000000</td>\n",
       "      <td>0.000000</td>\n",
       "      <td>10.000000</td>\n",
       "      <td>0.000000</td>\n",
       "      <td>1.000000</td>\n",
       "      <td>0.000000</td>\n",
       "    </tr>\n",
       "    <tr>\n",
       "      <th>75%</th>\n",
       "      <td>0.800000</td>\n",
       "      <td>0.680000</td>\n",
       "      <td>72.000000</td>\n",
       "      <td>3.000000</td>\n",
       "      <td>3.000000</td>\n",
       "      <td>639.250000</td>\n",
       "      <td>1303.000000</td>\n",
       "      <td>2581.000000</td>\n",
       "      <td>4.000000</td>\n",
       "      <td>2.000000</td>\n",
       "      <td>0.000000</td>\n",
       "      <td>10.000000</td>\n",
       "      <td>5.000000</td>\n",
       "      <td>1.000000</td>\n",
       "      <td>0.000000</td>\n",
       "    </tr>\n",
       "    <tr>\n",
       "      <th>max</th>\n",
       "      <td>1.000000</td>\n",
       "      <td>1.000000</td>\n",
       "      <td>99.000000</td>\n",
       "      <td>3.000000</td>\n",
       "      <td>3.000000</td>\n",
       "      <td>900.000000</td>\n",
       "      <td>1800.000000</td>\n",
       "      <td>3600.000000</td>\n",
       "      <td>5.000000</td>\n",
       "      <td>4.000000</td>\n",
       "      <td>1.000000</td>\n",
       "      <td>25.000000</td>\n",
       "      <td>25.000000</td>\n",
       "      <td>1.000000</td>\n",
       "      <td>1.000000</td>\n",
       "    </tr>\n",
       "  </tbody>\n",
       "</table>\n",
       "</div>"
      ],
      "text/plain": [
       "          home_wp     away_wp  yardline_100  home_timeouts_remaining  \\\n",
       "count  996.000000  996.000000    996.000000               996.000000   \n",
       "mean     0.542952    0.457048     52.161647                 2.508032   \n",
       "std      0.295584    0.295584     23.801292                 0.805094   \n",
       "min      0.000000    0.000000      1.000000                 0.000000   \n",
       "25%      0.320000    0.200000     33.000000                 2.000000   \n",
       "50%      0.570000    0.430000     57.000000                 3.000000   \n",
       "75%      0.800000    0.680000     72.000000                 3.000000   \n",
       "max      1.000000    1.000000     99.000000                 3.000000   \n",
       "\n",
       "       away_timeouts_remaining  quarter_seconds_remaining  \\\n",
       "count               996.000000                 996.000000   \n",
       "mean                  2.556225                 417.201807   \n",
       "std                   0.794359                 268.666737   \n",
       "min                   0.000000                   1.000000   \n",
       "25%                   2.000000                 173.000000   \n",
       "50%                   3.000000                 401.000000   \n",
       "75%                   3.000000                 639.250000   \n",
       "max                   3.000000                 900.000000   \n",
       "\n",
       "       half_seconds_remaining  game_seconds_remaining         qtr        down  \\\n",
       "count              996.000000              996.000000  996.000000  996.000000   \n",
       "mean               822.021084             1693.105422    2.595382    1.808233   \n",
       "std                555.607899             1069.102136    1.146521    0.848512   \n",
       "min                  1.000000                1.000000    1.000000    1.000000   \n",
       "25%                322.250000              727.500000    2.000000    1.000000   \n",
       "50%                808.000000             1753.000000    3.000000    2.000000   \n",
       "75%               1303.000000             2581.000000    4.000000    2.000000   \n",
       "max               1800.000000             3600.000000    5.000000    4.000000   \n",
       "\n",
       "       goal_to_go     ydstogo  score_differential     shotgun   no_huddle  \n",
       "count  996.000000  996.000000          996.000000  996.000000  996.000000  \n",
       "mean     0.046185    8.530120           -2.003012    0.607430    0.068273  \n",
       "std      0.209990    3.936952           10.265373    0.488568    0.252341  \n",
       "min      0.000000    0.000000          -27.000000    0.000000    0.000000  \n",
       "25%      0.000000    6.000000           -9.000000    0.000000    0.000000  \n",
       "50%      0.000000   10.000000            0.000000    1.000000    0.000000  \n",
       "75%      0.000000   10.000000            5.000000    1.000000    0.000000  \n",
       "max      1.000000   25.000000           25.000000    1.000000    1.000000  "
      ]
     },
     "execution_count": 6,
     "metadata": {},
     "output_type": "execute_result"
    }
   ],
   "source": [
    "df.describe()"
   ]
  },
  {
   "cell_type": "code",
   "execution_count": 7,
   "metadata": {},
   "outputs": [
    {
     "data": {
      "text/html": [
       "<div>\n",
       "<style scoped>\n",
       "    .dataframe tbody tr th:only-of-type {\n",
       "        vertical-align: middle;\n",
       "    }\n",
       "\n",
       "    .dataframe tbody tr th {\n",
       "        vertical-align: top;\n",
       "    }\n",
       "\n",
       "    .dataframe thead th {\n",
       "        text-align: right;\n",
       "    }\n",
       "</style>\n",
       "<table border=\"1\" class=\"dataframe\">\n",
       "  <thead>\n",
       "    <tr style=\"text-align: right;\">\n",
       "      <th></th>\n",
       "      <th>posteam</th>\n",
       "      <th>home_team</th>\n",
       "      <th>home_wp</th>\n",
       "      <th>away_wp</th>\n",
       "      <th>yardline_100</th>\n",
       "      <th>home_timeouts_remaining</th>\n",
       "      <th>away_timeouts_remaining</th>\n",
       "      <th>quarter_seconds_remaining</th>\n",
       "      <th>half_seconds_remaining</th>\n",
       "      <th>game_seconds_remaining</th>\n",
       "      <th>qtr</th>\n",
       "      <th>down</th>\n",
       "      <th>goal_to_go</th>\n",
       "      <th>ydstogo</th>\n",
       "      <th>play_type</th>\n",
       "      <th>score_differential</th>\n",
       "      <th>shotgun</th>\n",
       "      <th>no_huddle</th>\n",
       "    </tr>\n",
       "    <tr>\n",
       "      <th>Unnamed: 0</th>\n",
       "      <th></th>\n",
       "      <th></th>\n",
       "      <th></th>\n",
       "      <th></th>\n",
       "      <th></th>\n",
       "      <th></th>\n",
       "      <th></th>\n",
       "      <th></th>\n",
       "      <th></th>\n",
       "      <th></th>\n",
       "      <th></th>\n",
       "      <th></th>\n",
       "      <th></th>\n",
       "      <th></th>\n",
       "      <th></th>\n",
       "      <th></th>\n",
       "      <th></th>\n",
       "      <th></th>\n",
       "    </tr>\n",
       "  </thead>\n",
       "  <tbody>\n",
       "    <tr>\n",
       "      <th>943</th>\n",
       "      <td>MIN</td>\n",
       "      <td>MIN</td>\n",
       "      <td>0.50</td>\n",
       "      <td>0.50</td>\n",
       "      <td>75.0</td>\n",
       "      <td>3</td>\n",
       "      <td>3</td>\n",
       "      <td>900.0</td>\n",
       "      <td>1800.0</td>\n",
       "      <td>3600.0</td>\n",
       "      <td>1</td>\n",
       "      <td>1.0</td>\n",
       "      <td>0.0</td>\n",
       "      <td>10</td>\n",
       "      <td>pass</td>\n",
       "      <td>0.0</td>\n",
       "      <td>1</td>\n",
       "      <td>0</td>\n",
       "    </tr>\n",
       "    <tr>\n",
       "      <th>944</th>\n",
       "      <td>MIN</td>\n",
       "      <td>MIN</td>\n",
       "      <td>0.54</td>\n",
       "      <td>0.46</td>\n",
       "      <td>66.0</td>\n",
       "      <td>3</td>\n",
       "      <td>3</td>\n",
       "      <td>861.0</td>\n",
       "      <td>1761.0</td>\n",
       "      <td>3561.0</td>\n",
       "      <td>1</td>\n",
       "      <td>2.0</td>\n",
       "      <td>0.0</td>\n",
       "      <td>1</td>\n",
       "      <td>run</td>\n",
       "      <td>0.0</td>\n",
       "      <td>0</td>\n",
       "      <td>0</td>\n",
       "    </tr>\n",
       "    <tr>\n",
       "      <th>945</th>\n",
       "      <td>MIN</td>\n",
       "      <td>MIN</td>\n",
       "      <td>0.54</td>\n",
       "      <td>0.46</td>\n",
       "      <td>64.0</td>\n",
       "      <td>3</td>\n",
       "      <td>3</td>\n",
       "      <td>822.0</td>\n",
       "      <td>1722.0</td>\n",
       "      <td>3522.0</td>\n",
       "      <td>1</td>\n",
       "      <td>1.0</td>\n",
       "      <td>0.0</td>\n",
       "      <td>10</td>\n",
       "      <td>pass</td>\n",
       "      <td>0.0</td>\n",
       "      <td>0</td>\n",
       "      <td>0</td>\n",
       "    </tr>\n",
       "    <tr>\n",
       "      <th>946</th>\n",
       "      <td>MIN</td>\n",
       "      <td>MIN</td>\n",
       "      <td>0.57</td>\n",
       "      <td>0.43</td>\n",
       "      <td>52.0</td>\n",
       "      <td>3</td>\n",
       "      <td>3</td>\n",
       "      <td>787.0</td>\n",
       "      <td>1687.0</td>\n",
       "      <td>3487.0</td>\n",
       "      <td>1</td>\n",
       "      <td>1.0</td>\n",
       "      <td>0.0</td>\n",
       "      <td>10</td>\n",
       "      <td>run</td>\n",
       "      <td>0.0</td>\n",
       "      <td>0</td>\n",
       "      <td>0</td>\n",
       "    </tr>\n",
       "    <tr>\n",
       "      <th>947</th>\n",
       "      <td>MIN</td>\n",
       "      <td>MIN</td>\n",
       "      <td>0.55</td>\n",
       "      <td>0.45</td>\n",
       "      <td>51.0</td>\n",
       "      <td>3</td>\n",
       "      <td>3</td>\n",
       "      <td>750.0</td>\n",
       "      <td>1650.0</td>\n",
       "      <td>3450.0</td>\n",
       "      <td>1</td>\n",
       "      <td>2.0</td>\n",
       "      <td>0.0</td>\n",
       "      <td>9</td>\n",
       "      <td>run</td>\n",
       "      <td>0.0</td>\n",
       "      <td>1</td>\n",
       "      <td>0</td>\n",
       "    </tr>\n",
       "  </tbody>\n",
       "</table>\n",
       "</div>"
      ],
      "text/plain": [
       "           posteam home_team  home_wp  away_wp  yardline_100  \\\n",
       "Unnamed: 0                                                     \n",
       "943            MIN       MIN     0.50     0.50          75.0   \n",
       "944            MIN       MIN     0.54     0.46          66.0   \n",
       "945            MIN       MIN     0.54     0.46          64.0   \n",
       "946            MIN       MIN     0.57     0.43          52.0   \n",
       "947            MIN       MIN     0.55     0.45          51.0   \n",
       "\n",
       "            home_timeouts_remaining  away_timeouts_remaining  \\\n",
       "Unnamed: 0                                                     \n",
       "943                               3                        3   \n",
       "944                               3                        3   \n",
       "945                               3                        3   \n",
       "946                               3                        3   \n",
       "947                               3                        3   \n",
       "\n",
       "            quarter_seconds_remaining  half_seconds_remaining  \\\n",
       "Unnamed: 0                                                      \n",
       "943                             900.0                  1800.0   \n",
       "944                             861.0                  1761.0   \n",
       "945                             822.0                  1722.0   \n",
       "946                             787.0                  1687.0   \n",
       "947                             750.0                  1650.0   \n",
       "\n",
       "            game_seconds_remaining  qtr  down  goal_to_go  ydstogo play_type  \\\n",
       "Unnamed: 0                                                                     \n",
       "943                         3600.0    1   1.0         0.0       10      pass   \n",
       "944                         3561.0    1   2.0         0.0        1       run   \n",
       "945                         3522.0    1   1.0         0.0       10      pass   \n",
       "946                         3487.0    1   1.0         0.0       10       run   \n",
       "947                         3450.0    1   2.0         0.0        9       run   \n",
       "\n",
       "            score_differential  shotgun  no_huddle  \n",
       "Unnamed: 0                                          \n",
       "943                        0.0        1          0  \n",
       "944                        0.0        0          0  \n",
       "945                        0.0        0          0  \n",
       "946                        0.0        0          0  \n",
       "947                        0.0        1          0  "
      ]
     },
     "execution_count": 7,
     "metadata": {},
     "output_type": "execute_result"
    }
   ],
   "source": [
    "df.head()"
   ]
  },
  {
   "cell_type": "code",
   "execution_count": 8,
   "metadata": {},
   "outputs": [
    {
     "data": {
      "text/html": [
       "<div>\n",
       "<style scoped>\n",
       "    .dataframe tbody tr th:only-of-type {\n",
       "        vertical-align: middle;\n",
       "    }\n",
       "\n",
       "    .dataframe tbody tr th {\n",
       "        vertical-align: top;\n",
       "    }\n",
       "\n",
       "    .dataframe thead th {\n",
       "        text-align: right;\n",
       "    }\n",
       "</style>\n",
       "<table border=\"1\" class=\"dataframe\">\n",
       "  <thead>\n",
       "    <tr style=\"text-align: right;\">\n",
       "      <th></th>\n",
       "      <th>posteam</th>\n",
       "      <th>home_team</th>\n",
       "      <th>home_wp</th>\n",
       "      <th>away_wp</th>\n",
       "      <th>yardline_100</th>\n",
       "      <th>home_timeouts_remaining</th>\n",
       "      <th>away_timeouts_remaining</th>\n",
       "      <th>quarter_seconds_remaining</th>\n",
       "      <th>half_seconds_remaining</th>\n",
       "      <th>game_seconds_remaining</th>\n",
       "      <th>qtr</th>\n",
       "      <th>down</th>\n",
       "      <th>goal_to_go</th>\n",
       "      <th>ydstogo</th>\n",
       "      <th>play_type</th>\n",
       "      <th>score_differential</th>\n",
       "      <th>shotgun</th>\n",
       "      <th>no_huddle</th>\n",
       "    </tr>\n",
       "    <tr>\n",
       "      <th>Unnamed: 0</th>\n",
       "      <th></th>\n",
       "      <th></th>\n",
       "      <th></th>\n",
       "      <th></th>\n",
       "      <th></th>\n",
       "      <th></th>\n",
       "      <th></th>\n",
       "      <th></th>\n",
       "      <th></th>\n",
       "      <th></th>\n",
       "      <th></th>\n",
       "      <th></th>\n",
       "      <th></th>\n",
       "      <th></th>\n",
       "      <th></th>\n",
       "      <th></th>\n",
       "      <th></th>\n",
       "      <th></th>\n",
       "    </tr>\n",
       "  </thead>\n",
       "  <tbody>\n",
       "    <tr>\n",
       "      <th>44270</th>\n",
       "      <td>MIN</td>\n",
       "      <td>MIN</td>\n",
       "      <td>0.02</td>\n",
       "      <td>0.98</td>\n",
       "      <td>52.0</td>\n",
       "      <td>0</td>\n",
       "      <td>0</td>\n",
       "      <td>118.0</td>\n",
       "      <td>118.0</td>\n",
       "      <td>118.0</td>\n",
       "      <td>4</td>\n",
       "      <td>1.0</td>\n",
       "      <td>0.0</td>\n",
       "      <td>5</td>\n",
       "      <td>pass</td>\n",
       "      <td>-14.0</td>\n",
       "      <td>1</td>\n",
       "      <td>0</td>\n",
       "    </tr>\n",
       "    <tr>\n",
       "      <th>44272</th>\n",
       "      <td>MIN</td>\n",
       "      <td>MIN</td>\n",
       "      <td>0.01</td>\n",
       "      <td>0.99</td>\n",
       "      <td>29.0</td>\n",
       "      <td>0</td>\n",
       "      <td>0</td>\n",
       "      <td>89.0</td>\n",
       "      <td>89.0</td>\n",
       "      <td>89.0</td>\n",
       "      <td>4</td>\n",
       "      <td>1.0</td>\n",
       "      <td>0.0</td>\n",
       "      <td>5</td>\n",
       "      <td>pass</td>\n",
       "      <td>-14.0</td>\n",
       "      <td>1</td>\n",
       "      <td>0</td>\n",
       "    </tr>\n",
       "    <tr>\n",
       "      <th>44273</th>\n",
       "      <td>MIN</td>\n",
       "      <td>MIN</td>\n",
       "      <td>0.01</td>\n",
       "      <td>0.99</td>\n",
       "      <td>39.0</td>\n",
       "      <td>0</td>\n",
       "      <td>0</td>\n",
       "      <td>62.0</td>\n",
       "      <td>62.0</td>\n",
       "      <td>62.0</td>\n",
       "      <td>4</td>\n",
       "      <td>2.0</td>\n",
       "      <td>0.0</td>\n",
       "      <td>15</td>\n",
       "      <td>pass</td>\n",
       "      <td>-14.0</td>\n",
       "      <td>1</td>\n",
       "      <td>1</td>\n",
       "    </tr>\n",
       "    <tr>\n",
       "      <th>44274</th>\n",
       "      <td>MIN</td>\n",
       "      <td>MIN</td>\n",
       "      <td>0.01</td>\n",
       "      <td>0.99</td>\n",
       "      <td>35.0</td>\n",
       "      <td>0</td>\n",
       "      <td>0</td>\n",
       "      <td>42.0</td>\n",
       "      <td>42.0</td>\n",
       "      <td>42.0</td>\n",
       "      <td>4</td>\n",
       "      <td>3.0</td>\n",
       "      <td>0.0</td>\n",
       "      <td>11</td>\n",
       "      <td>pass</td>\n",
       "      <td>-14.0</td>\n",
       "      <td>1</td>\n",
       "      <td>1</td>\n",
       "    </tr>\n",
       "    <tr>\n",
       "      <th>44275</th>\n",
       "      <td>MIN</td>\n",
       "      <td>MIN</td>\n",
       "      <td>0.05</td>\n",
       "      <td>0.95</td>\n",
       "      <td>28.0</td>\n",
       "      <td>0</td>\n",
       "      <td>0</td>\n",
       "      <td>24.0</td>\n",
       "      <td>24.0</td>\n",
       "      <td>24.0</td>\n",
       "      <td>4</td>\n",
       "      <td>4.0</td>\n",
       "      <td>0.0</td>\n",
       "      <td>4</td>\n",
       "      <td>pass</td>\n",
       "      <td>-14.0</td>\n",
       "      <td>1</td>\n",
       "      <td>1</td>\n",
       "    </tr>\n",
       "  </tbody>\n",
       "</table>\n",
       "</div>"
      ],
      "text/plain": [
       "           posteam home_team  home_wp  away_wp  yardline_100  \\\n",
       "Unnamed: 0                                                     \n",
       "44270          MIN       MIN     0.02     0.98          52.0   \n",
       "44272          MIN       MIN     0.01     0.99          29.0   \n",
       "44273          MIN       MIN     0.01     0.99          39.0   \n",
       "44274          MIN       MIN     0.01     0.99          35.0   \n",
       "44275          MIN       MIN     0.05     0.95          28.0   \n",
       "\n",
       "            home_timeouts_remaining  away_timeouts_remaining  \\\n",
       "Unnamed: 0                                                     \n",
       "44270                             0                        0   \n",
       "44272                             0                        0   \n",
       "44273                             0                        0   \n",
       "44274                             0                        0   \n",
       "44275                             0                        0   \n",
       "\n",
       "            quarter_seconds_remaining  half_seconds_remaining  \\\n",
       "Unnamed: 0                                                      \n",
       "44270                           118.0                   118.0   \n",
       "44272                            89.0                    89.0   \n",
       "44273                            62.0                    62.0   \n",
       "44274                            42.0                    42.0   \n",
       "44275                            24.0                    24.0   \n",
       "\n",
       "            game_seconds_remaining  qtr  down  goal_to_go  ydstogo play_type  \\\n",
       "Unnamed: 0                                                                     \n",
       "44270                        118.0    4   1.0         0.0        5      pass   \n",
       "44272                         89.0    4   1.0         0.0        5      pass   \n",
       "44273                         62.0    4   2.0         0.0       15      pass   \n",
       "44274                         42.0    4   3.0         0.0       11      pass   \n",
       "44275                         24.0    4   4.0         0.0        4      pass   \n",
       "\n",
       "            score_differential  shotgun  no_huddle  \n",
       "Unnamed: 0                                          \n",
       "44270                    -14.0        1          0  \n",
       "44272                    -14.0        1          0  \n",
       "44273                    -14.0        1          1  \n",
       "44274                    -14.0        1          1  \n",
       "44275                    -14.0        1          1  "
      ]
     },
     "execution_count": 8,
     "metadata": {},
     "output_type": "execute_result"
    }
   ],
   "source": [
    "df.tail()"
   ]
  },
  {
   "cell_type": "markdown",
   "metadata": {},
   "source": [
    "# /////////////"
   ]
  },
  {
   "cell_type": "code",
   "execution_count": 9,
   "metadata": {},
   "outputs": [],
   "source": [
    "# home = df.groupby(['home_team'])['home_wp', 'away_wp', 'home_timeouts_remaining', 'away_timeouts_remaining']\n",
    "# home = list(home)\n",
    "# minn_df = home[4][1]"
   ]
  },
  {
   "cell_type": "code",
   "execution_count": 10,
   "metadata": {},
   "outputs": [],
   "source": [
    "# minn_df2 = minn_df[['home_wp', 'home_timeouts_remaining']]"
   ]
  },
  {
   "cell_type": "code",
   "execution_count": 11,
   "metadata": {},
   "outputs": [],
   "source": [
    "# minn_df2"
   ]
  },
  {
   "cell_type": "code",
   "execution_count": 12,
   "metadata": {},
   "outputs": [],
   "source": [
    "# home2 = list(home)"
   ]
  },
  {
   "cell_type": "code",
   "execution_count": 13,
   "metadata": {},
   "outputs": [],
   "source": [
    "# home_det = home2[0:3][1][1]\n",
    "# home_det = home_det[['home_team', 'away_wp', 'away_timeouts_remaining']]\n",
    "# home_det.head()"
   ]
  },
  {
   "cell_type": "code",
   "execution_count": 14,
   "metadata": {},
   "outputs": [],
   "source": [
    "# home_chi = home2[0][1]\n",
    "# home_chi = home_chi[['home_team', 'away_wp', 'away_timeouts_remaining']]\n",
    "# home_chi.head()"
   ]
  },
  {
   "cell_type": "code",
   "execution_count": 15,
   "metadata": {},
   "outputs": [],
   "source": [
    "# home_gb = home2[2][1]\n",
    "# home_gb = home_gb[['home_team', 'away_wp', 'away_timeouts_remaining']]\n",
    "# home_gb.head()"
   ]
  },
  {
   "cell_type": "code",
   "execution_count": 16,
   "metadata": {},
   "outputs": [],
   "source": [
    "# home_la = home2[3][1]\n",
    "# home_la = home_la[['home_team', 'away_wp', 'away_timeouts_remaining']]\n",
    "# home_la.head()"
   ]
  },
  {
   "cell_type": "code",
   "execution_count": 17,
   "metadata": {},
   "outputs": [],
   "source": [
    "# home_ne = home2[5][1]\n",
    "# home_ne = home_ne[['home_team', 'away_wp', 'away_timeouts_remaining']]\n",
    "# home_ne.head()"
   ]
  },
  {
   "cell_type": "code",
   "execution_count": 18,
   "metadata": {},
   "outputs": [],
   "source": [
    "# home_nyj = home2[6][1]\n",
    "# home_nyj = home_nyj[['home_team', 'away_wp', 'away_timeouts_remaining']]\n",
    "# home_nyj.head()"
   ]
  },
  {
   "cell_type": "code",
   "execution_count": 19,
   "metadata": {},
   "outputs": [],
   "source": [
    "# home_phi = home2[7][1]\n",
    "# home_phi = home_phi[['home_team', 'away_wp', 'away_timeouts_remaining']]\n",
    "# home_phi.head()"
   ]
  },
  {
   "cell_type": "code",
   "execution_count": 20,
   "metadata": {},
   "outputs": [],
   "source": [
    "# home_sea = home2[8][1]\n",
    "# home_sea = home_sea[['home_team', 'away_wp', 'away_timeouts_remaining']]\n",
    "# home_sea.head()"
   ]
  },
  {
   "cell_type": "code",
   "execution_count": 96,
   "metadata": {},
   "outputs": [
    {
     "data": {
      "text/plain": [
       "GradientBoostingClassifier(criterion='friedman_mse', init=None,\n",
       "                           learning_rate=0.02, loss='deviance', max_depth=3,\n",
       "                           max_features=None, max_leaf_nodes=None,\n",
       "                           min_impurity_decrease=0.0, min_impurity_split=None,\n",
       "                           min_samples_leaf=1, min_samples_split=2,\n",
       "                           min_weight_fraction_leaf=0.0, n_estimators=100,\n",
       "                           n_iter_no_change=None, presort='auto',\n",
       "                           random_state=None, subsample=1.0, tol=0.0001,\n",
       "                           validation_fraction=0.1, verbose=0,\n",
       "                           warm_start=False)"
      ]
     },
     "execution_count": 96,
     "metadata": {},
     "output_type": "execute_result"
    }
   ],
   "source": [
    "gbr = ensemble.GradientBoostingClassifier(n_estimators = 100, learning_rate = 0.02)\n",
    "\n",
    "gbr.fit(X_train, y_train)"
   ]
  },
  {
   "cell_type": "code",
   "execution_count": 97,
   "metadata": {},
   "outputs": [
    {
     "name": "stdout",
     "output_type": "stream",
     "text": [
      "Accuracy: 75.59%\n"
     ]
    }
   ],
   "source": [
    "prediction = gbr.predict(X_test)\n",
    "\n",
    "accuracy = accuracy_score(y_test, y_hat_test)\n",
    "\n",
    "print(\"Accuracy: \"+\"{:.2%}\".format(accuracy))"
   ]
  },
  {
   "cell_type": "code",
   "execution_count": 98,
   "metadata": {},
   "outputs": [
    {
     "data": {
      "text/plain": [
       "Index(['home_wp', 'away_wp', 'yardline_100', 'home_timeouts_remaining',\n",
       "       'away_timeouts_remaining', 'quarter_seconds_remaining',\n",
       "       'half_seconds_remaining', 'game_seconds_remaining', 'qtr', 'down',\n",
       "       'goal_to_go', 'ydstogo', 'score_differential', 'shotgun', 'no_huddle',\n",
       "       'play_type'],\n",
       "      dtype='object')"
      ]
     },
     "execution_count": 98,
     "metadata": {},
     "output_type": "execute_result"
    }
   ],
   "source": [
    "features = final_df.columns\n",
    "features"
   ]
  },
  {
   "cell_type": "code",
   "execution_count": 99,
   "metadata": {},
   "outputs": [],
   "source": [
    "feature_importance = gbr.feature_importances_.tolist()"
   ]
  },
  {
   "cell_type": "code",
   "execution_count": 100,
   "metadata": {},
   "outputs": [
    {
     "data": {
      "text/plain": [
       " 0.803916    605\n",
       "-1.243911    391\n",
       "Name: shotgun, dtype: int64"
      ]
     },
     "execution_count": 100,
     "metadata": {},
     "output_type": "execute_result"
    }
   ],
   "source": [
    "final_df.shotgun.value_counts()"
   ]
  },
  {
   "cell_type": "code",
   "execution_count": 101,
   "metadata": {},
   "outputs": [],
   "source": [
    "from sklearn.model_selection import GridSearchCV\n",
    "classifier = RandomForestClassifier(n_estimators=300, random_state=42)"
   ]
  },
  {
   "cell_type": "code",
   "execution_count": 102,
   "metadata": {},
   "outputs": [],
   "source": [
    "grid_param = {\n",
    "    'n_estimators': [100, 300, 500, 800, 1000],\n",
    "    'criterion': ['gini', 'entropy'],\n",
    "    'bootstrap': [True, False]\n",
    "}"
   ]
  },
  {
   "cell_type": "code",
   "execution_count": 103,
   "metadata": {},
   "outputs": [],
   "source": [
    "gd_sr = GridSearchCV(estimator=classifier,\n",
    "                     param_grid=grid_param,\n",
    "                     scoring='accuracy',\n",
    "                     cv=5,\n",
    "                     n_jobs=-1)"
   ]
  },
  {
   "cell_type": "code",
   "execution_count": 104,
   "metadata": {},
   "outputs": [
    {
     "data": {
      "text/plain": [
       "GridSearchCV(cv=5, error_score='raise-deprecating',\n",
       "             estimator=RandomForestClassifier(bootstrap=True, class_weight=None,\n",
       "                                              criterion='gini', max_depth=None,\n",
       "                                              max_features='auto',\n",
       "                                              max_leaf_nodes=None,\n",
       "                                              min_impurity_decrease=0.0,\n",
       "                                              min_impurity_split=None,\n",
       "                                              min_samples_leaf=1,\n",
       "                                              min_samples_split=2,\n",
       "                                              min_weight_fraction_leaf=0.0,\n",
       "                                              n_estimators=300, n_jobs=None,\n",
       "                                              oob_score=False, random_state=42,\n",
       "                                              verbose=0, warm_start=False),\n",
       "             iid='warn', n_jobs=-1,\n",
       "             param_grid={'bootstrap': [True, False],\n",
       "                         'criterion': ['gini', 'entropy'],\n",
       "                         'n_estimators': [100, 300, 500, 800, 1000]},\n",
       "             pre_dispatch='2*n_jobs', refit=True, return_train_score=False,\n",
       "             scoring='accuracy', verbose=0)"
      ]
     },
     "execution_count": 104,
     "metadata": {},
     "output_type": "execute_result"
    }
   ],
   "source": [
    "gd_sr.fit(X_train, y_train)"
   ]
  },
  {
   "cell_type": "code",
   "execution_count": 105,
   "metadata": {},
   "outputs": [
    {
     "name": "stdout",
     "output_type": "stream",
     "text": [
      "{'bootstrap': True, 'criterion': 'gini', 'n_estimators': 800}\n"
     ]
    }
   ],
   "source": [
    "best_parameters = gd_sr.best_params_\n",
    "print(best_parameters)"
   ]
  },
  {
   "cell_type": "code",
   "execution_count": 106,
   "metadata": {},
   "outputs": [
    {
     "name": "stdout",
     "output_type": "stream",
     "text": [
      "0.7317073170731707\n"
     ]
    }
   ],
   "source": [
    "best_result = gd_sr.best_score_\n",
    "print(best_result)"
   ]
  },
  {
   "cell_type": "code",
   "execution_count": null,
   "metadata": {},
   "outputs": [],
   "source": []
  },
  {
   "cell_type": "code",
   "execution_count": null,
   "metadata": {},
   "outputs": [],
   "source": []
  },
  {
   "cell_type": "code",
   "execution_count": 107,
   "metadata": {},
   "outputs": [
    {
     "data": {
      "image/png": "[encoded data removed]",
      "text/plain": [
       "<Figure size 720x720 with 1 Axes>"
      ]
     },
     "metadata": {},
     "output_type": "display_data"
    }
   ],
   "source": [
    "plt.figure(figsize=(10,10))\n",
    "plt.pie(df['play_type'].value_counts(), labels=['Pass', 'Run'], colors=['#4F2683', '#FFC62F'], autopct='%.2f%%', textprops={'fontsize': 30}, wedgeprops={'linewidth': 3}, labeldistance=1.2, pctdistance=.75, radius=1.4, startangle=100)\n",
    "centre_circle = plt.Circle((0,0),0.65,color='white', fc='white',linewidth=3)\n",
    "fig = plt.gcf()\n",
    "fig.gca().add_artist(centre_circle)\n",
    "plt.rcParams['text.color'] = 'white'\n",
    "plt.axis('equal')\n",
    "plt.tight_layout()\n",
    "plt.show()"
   ]
  },
  {
   "cell_type": "code",
   "execution_count": 32,
   "metadata": {},
   "outputs": [
    {
     "data": {
      "image/png": "[encoded data removed]",
      "text/plain": [
       "<Figure size 720x720 with 1 Axes>"
      ]
     },
     "metadata": {
      "needs_background": "light"
     },
     "output_type": "display_data"
    }
   ],
   "source": [
    "plt.figure(figsize=(10,10))\n",
    "sns.violinplot(data=df, x=\"down\", y='ydstogo', palette='RdBu_r', alpha=.5);\n",
    "plt.xlabel('Down')\n",
    "plt.ylabel('Yards to go');"
   ]
  },
  {
   "cell_type": "code",
   "execution_count": 33,
   "metadata": {},
   "outputs": [
    {
     "data": {
      "text/plain": [
       "<matplotlib.legend.Legend at 0x1a1ae5fc88>"
      ]
     },
     "execution_count": 33,
     "metadata": {},
     "output_type": "execute_result"
    },
    {
     "data": {
      "text/plain": [
       "<Figure size 720x720 with 0 Axes>"
      ]
     },
     "metadata": {},
     "output_type": "display_data"
    },
    {
     "data": {
      "image/png": "[encoded data removed]",
      "text/plain": [
       "<Figure size 422.6x360 with 1 Axes>"
      ]
     },
     "metadata": {
      "needs_background": "light"
     },
     "output_type": "display_data"
    }
   ],
   "source": [
    "plt.figure(figsize=(10,10))\n",
    "sns.catplot(x=\"down\", kind=\"count\", hue='play_type', data=df);\n",
    "plt.ylabel('Count')\n",
    "plt.xlabel('Down')\n",
    "plt.rcParams['text.color'] = 'black'\n",
    "plt.legend()"
   ]
  },
  {
   "cell_type": "code",
   "execution_count": 34,
   "metadata": {},
   "outputs": [],
   "source": [
    "df_num = df.select_dtypes(exclude='object')\n",
    "df_cat = df.select_dtypes(include='object')"
   ]
  },
  {
   "cell_type": "code",
   "execution_count": 35,
   "metadata": {},
   "outputs": [
    {
     "data": {
      "text/html": [
       "<div>\n",
       "<style scoped>\n",
       "    .dataframe tbody tr th:only-of-type {\n",
       "        vertical-align: middle;\n",
       "    }\n",
       "\n",
       "    .dataframe tbody tr th {\n",
       "        vertical-align: top;\n",
       "    }\n",
       "\n",
       "    .dataframe thead th {\n",
       "        text-align: right;\n",
       "    }\n",
       "</style>\n",
       "<table border=\"1\" class=\"dataframe\">\n",
       "  <thead>\n",
       "    <tr style=\"text-align: right;\">\n",
       "      <th></th>\n",
       "      <th>home_wp</th>\n",
       "      <th>away_wp</th>\n",
       "      <th>yardline_100</th>\n",
       "      <th>home_timeouts_remaining</th>\n",
       "      <th>away_timeouts_remaining</th>\n",
       "      <th>quarter_seconds_remaining</th>\n",
       "      <th>half_seconds_remaining</th>\n",
       "      <th>game_seconds_remaining</th>\n",
       "      <th>qtr</th>\n",
       "      <th>down</th>\n",
       "      <th>goal_to_go</th>\n",
       "      <th>ydstogo</th>\n",
       "      <th>score_differential</th>\n",
       "      <th>shotgun</th>\n",
       "      <th>no_huddle</th>\n",
       "    </tr>\n",
       "    <tr>\n",
       "      <th>Unnamed: 0</th>\n",
       "      <th></th>\n",
       "      <th></th>\n",
       "      <th></th>\n",
       "      <th></th>\n",
       "      <th></th>\n",
       "      <th></th>\n",
       "      <th></th>\n",
       "      <th></th>\n",
       "      <th></th>\n",
       "      <th></th>\n",
       "      <th></th>\n",
       "      <th></th>\n",
       "      <th></th>\n",
       "      <th></th>\n",
       "      <th></th>\n",
       "    </tr>\n",
       "  </thead>\n",
       "  <tbody>\n",
       "    <tr>\n",
       "      <th>943</th>\n",
       "      <td>0.50</td>\n",
       "      <td>0.50</td>\n",
       "      <td>75.0</td>\n",
       "      <td>3</td>\n",
       "      <td>3</td>\n",
       "      <td>900.0</td>\n",
       "      <td>1800.0</td>\n",
       "      <td>3600.0</td>\n",
       "      <td>1</td>\n",
       "      <td>1.0</td>\n",
       "      <td>0.0</td>\n",
       "      <td>10</td>\n",
       "      <td>0.0</td>\n",
       "      <td>1</td>\n",
       "      <td>0</td>\n",
       "    </tr>\n",
       "    <tr>\n",
       "      <th>944</th>\n",
       "      <td>0.54</td>\n",
       "      <td>0.46</td>\n",
       "      <td>66.0</td>\n",
       "      <td>3</td>\n",
       "      <td>3</td>\n",
       "      <td>861.0</td>\n",
       "      <td>1761.0</td>\n",
       "      <td>3561.0</td>\n",
       "      <td>1</td>\n",
       "      <td>2.0</td>\n",
       "      <td>0.0</td>\n",
       "      <td>1</td>\n",
       "      <td>0.0</td>\n",
       "      <td>0</td>\n",
       "      <td>0</td>\n",
       "    </tr>\n",
       "    <tr>\n",
       "      <th>945</th>\n",
       "      <td>0.54</td>\n",
       "      <td>0.46</td>\n",
       "      <td>64.0</td>\n",
       "      <td>3</td>\n",
       "      <td>3</td>\n",
       "      <td>822.0</td>\n",
       "      <td>1722.0</td>\n",
       "      <td>3522.0</td>\n",
       "      <td>1</td>\n",
       "      <td>1.0</td>\n",
       "      <td>0.0</td>\n",
       "      <td>10</td>\n",
       "      <td>0.0</td>\n",
       "      <td>0</td>\n",
       "      <td>0</td>\n",
       "    </tr>\n",
       "    <tr>\n",
       "      <th>946</th>\n",
       "      <td>0.57</td>\n",
       "      <td>0.43</td>\n",
       "      <td>52.0</td>\n",
       "      <td>3</td>\n",
       "      <td>3</td>\n",
       "      <td>787.0</td>\n",
       "      <td>1687.0</td>\n",
       "      <td>3487.0</td>\n",
       "      <td>1</td>\n",
       "      <td>1.0</td>\n",
       "      <td>0.0</td>\n",
       "      <td>10</td>\n",
       "      <td>0.0</td>\n",
       "      <td>0</td>\n",
       "      <td>0</td>\n",
       "    </tr>\n",
       "    <tr>\n",
       "      <th>947</th>\n",
       "      <td>0.55</td>\n",
       "      <td>0.45</td>\n",
       "      <td>51.0</td>\n",
       "      <td>3</td>\n",
       "      <td>3</td>\n",
       "      <td>750.0</td>\n",
       "      <td>1650.0</td>\n",
       "      <td>3450.0</td>\n",
       "      <td>1</td>\n",
       "      <td>2.0</td>\n",
       "      <td>0.0</td>\n",
       "      <td>9</td>\n",
       "      <td>0.0</td>\n",
       "      <td>1</td>\n",
       "      <td>0</td>\n",
       "    </tr>\n",
       "  </tbody>\n",
       "</table>\n",
       "</div>"
      ],
      "text/plain": [
       "            home_wp  away_wp  yardline_100  home_timeouts_remaining  \\\n",
       "Unnamed: 0                                                            \n",
       "943            0.50     0.50          75.0                        3   \n",
       "944            0.54     0.46          66.0                        3   \n",
       "945            0.54     0.46          64.0                        3   \n",
       "946            0.57     0.43          52.0                        3   \n",
       "947            0.55     0.45          51.0                        3   \n",
       "\n",
       "            away_timeouts_remaining  quarter_seconds_remaining  \\\n",
       "Unnamed: 0                                                       \n",
       "943                               3                      900.0   \n",
       "944                               3                      861.0   \n",
       "945                               3                      822.0   \n",
       "946                               3                      787.0   \n",
       "947                               3                      750.0   \n",
       "\n",
       "            half_seconds_remaining  game_seconds_remaining  qtr  down  \\\n",
       "Unnamed: 0                                                              \n",
       "943                         1800.0                  3600.0    1   1.0   \n",
       "944                         1761.0                  3561.0    1   2.0   \n",
       "945                         1722.0                  3522.0    1   1.0   \n",
       "946                         1687.0                  3487.0    1   1.0   \n",
       "947                         1650.0                  3450.0    1   2.0   \n",
       "\n",
       "            goal_to_go  ydstogo  score_differential  shotgun  no_huddle  \n",
       "Unnamed: 0                                                               \n",
       "943                0.0       10                 0.0        1          0  \n",
       "944                0.0        1                 0.0        0          0  \n",
       "945                0.0       10                 0.0        0          0  \n",
       "946                0.0       10                 0.0        0          0  \n",
       "947                0.0        9                 0.0        1          0  "
      ]
     },
     "execution_count": 35,
     "metadata": {},
     "output_type": "execute_result"
    }
   ],
   "source": [
    "df_num.head()"
   ]
  },
  {
   "cell_type": "code",
   "execution_count": 36,
   "metadata": {},
   "outputs": [
    {
     "data": {
      "text/html": [
       "<div>\n",
       "<style scoped>\n",
       "    .dataframe tbody tr th:only-of-type {\n",
       "        vertical-align: middle;\n",
       "    }\n",
       "\n",
       "    .dataframe tbody tr th {\n",
       "        vertical-align: top;\n",
       "    }\n",
       "\n",
       "    .dataframe thead th {\n",
       "        text-align: right;\n",
       "    }\n",
       "</style>\n",
       "<table border=\"1\" class=\"dataframe\">\n",
       "  <thead>\n",
       "    <tr style=\"text-align: right;\">\n",
       "      <th></th>\n",
       "      <th>posteam</th>\n",
       "      <th>home_team</th>\n",
       "      <th>play_type</th>\n",
       "    </tr>\n",
       "    <tr>\n",
       "      <th>Unnamed: 0</th>\n",
       "      <th></th>\n",
       "      <th></th>\n",
       "      <th></th>\n",
       "    </tr>\n",
       "  </thead>\n",
       "  <tbody>\n",
       "    <tr>\n",
       "      <th>943</th>\n",
       "      <td>MIN</td>\n",
       "      <td>MIN</td>\n",
       "      <td>pass</td>\n",
       "    </tr>\n",
       "    <tr>\n",
       "      <th>944</th>\n",
       "      <td>MIN</td>\n",
       "      <td>MIN</td>\n",
       "      <td>run</td>\n",
       "    </tr>\n",
       "    <tr>\n",
       "      <th>945</th>\n",
       "      <td>MIN</td>\n",
       "      <td>MIN</td>\n",
       "      <td>pass</td>\n",
       "    </tr>\n",
       "    <tr>\n",
       "      <th>946</th>\n",
       "      <td>MIN</td>\n",
       "      <td>MIN</td>\n",
       "      <td>run</td>\n",
       "    </tr>\n",
       "    <tr>\n",
       "      <th>947</th>\n",
       "      <td>MIN</td>\n",
       "      <td>MIN</td>\n",
       "      <td>run</td>\n",
       "    </tr>\n",
       "  </tbody>\n",
       "</table>\n",
       "</div>"
      ],
      "text/plain": [
       "           posteam home_team play_type\n",
       "Unnamed: 0                            \n",
       "943            MIN       MIN      pass\n",
       "944            MIN       MIN       run\n",
       "945            MIN       MIN      pass\n",
       "946            MIN       MIN       run\n",
       "947            MIN       MIN       run"
      ]
     },
     "execution_count": 36,
     "metadata": {},
     "output_type": "execute_result"
    }
   ],
   "source": [
    "df_cat.head()"
   ]
  },
  {
   "cell_type": "code",
   "execution_count": 37,
   "metadata": {},
   "outputs": [],
   "source": [
    "ss = StandardScaler()\n",
    "num_scaled = pd.DataFrame(ss.fit_transform(df_num), columns=df_num.columns)"
   ]
  },
  {
   "cell_type": "code",
   "execution_count": 38,
   "metadata": {},
   "outputs": [
    {
     "data": {
      "text/html": [
       "<div>\n",
       "<style scoped>\n",
       "    .dataframe tbody tr th:only-of-type {\n",
       "        vertical-align: middle;\n",
       "    }\n",
       "\n",
       "    .dataframe tbody tr th {\n",
       "        vertical-align: top;\n",
       "    }\n",
       "\n",
       "    .dataframe thead th {\n",
       "        text-align: right;\n",
       "    }\n",
       "</style>\n",
       "<table border=\"1\" class=\"dataframe\">\n",
       "  <thead>\n",
       "    <tr style=\"text-align: right;\">\n",
       "      <th></th>\n",
       "      <th>home_wp</th>\n",
       "      <th>away_wp</th>\n",
       "      <th>yardline_100</th>\n",
       "      <th>home_timeouts_remaining</th>\n",
       "      <th>away_timeouts_remaining</th>\n",
       "      <th>quarter_seconds_remaining</th>\n",
       "      <th>half_seconds_remaining</th>\n",
       "      <th>game_seconds_remaining</th>\n",
       "      <th>qtr</th>\n",
       "      <th>down</th>\n",
       "      <th>goal_to_go</th>\n",
       "      <th>ydstogo</th>\n",
       "      <th>score_differential</th>\n",
       "      <th>shotgun</th>\n",
       "      <th>no_huddle</th>\n",
       "    </tr>\n",
       "  </thead>\n",
       "  <tbody>\n",
       "    <tr>\n",
       "      <th>0</th>\n",
       "      <td>-0.145385</td>\n",
       "      <td>0.145385</td>\n",
       "      <td>0.960025</td>\n",
       "      <td>0.611376</td>\n",
       "      <td>0.558939</td>\n",
       "      <td>1.797918</td>\n",
       "      <td>1.761081</td>\n",
       "      <td>1.784537</td>\n",
       "      <td>-1.392196</td>\n",
       "      <td>-0.953008</td>\n",
       "      <td>-0.220048</td>\n",
       "      <td>0.373542</td>\n",
       "      <td>0.195221</td>\n",
       "      <td>0.803916</td>\n",
       "      <td>-0.270695</td>\n",
       "    </tr>\n",
       "    <tr>\n",
       "      <th>1</th>\n",
       "      <td>-0.009991</td>\n",
       "      <td>0.009991</td>\n",
       "      <td>0.581704</td>\n",
       "      <td>0.611376</td>\n",
       "      <td>0.558939</td>\n",
       "      <td>1.652684</td>\n",
       "      <td>1.690852</td>\n",
       "      <td>1.748040</td>\n",
       "      <td>-1.392196</td>\n",
       "      <td>0.226118</td>\n",
       "      <td>-0.220048</td>\n",
       "      <td>-1.913638</td>\n",
       "      <td>0.195221</td>\n",
       "      <td>-1.243911</td>\n",
       "      <td>-0.270695</td>\n",
       "    </tr>\n",
       "    <tr>\n",
       "      <th>2</th>\n",
       "      <td>-0.009991</td>\n",
       "      <td>0.009991</td>\n",
       "      <td>0.497633</td>\n",
       "      <td>0.611376</td>\n",
       "      <td>0.558939</td>\n",
       "      <td>1.507450</td>\n",
       "      <td>1.620623</td>\n",
       "      <td>1.711542</td>\n",
       "      <td>-1.392196</td>\n",
       "      <td>-0.953008</td>\n",
       "      <td>-0.220048</td>\n",
       "      <td>0.373542</td>\n",
       "      <td>0.195221</td>\n",
       "      <td>-1.243911</td>\n",
       "      <td>-0.270695</td>\n",
       "    </tr>\n",
       "    <tr>\n",
       "      <th>3</th>\n",
       "      <td>0.091554</td>\n",
       "      <td>-0.091554</td>\n",
       "      <td>-0.006795</td>\n",
       "      <td>0.611376</td>\n",
       "      <td>0.558939</td>\n",
       "      <td>1.377111</td>\n",
       "      <td>1.557597</td>\n",
       "      <td>1.678788</td>\n",
       "      <td>-1.392196</td>\n",
       "      <td>-0.953008</td>\n",
       "      <td>-0.220048</td>\n",
       "      <td>0.373542</td>\n",
       "      <td>0.195221</td>\n",
       "      <td>-1.243911</td>\n",
       "      <td>-0.270695</td>\n",
       "    </tr>\n",
       "    <tr>\n",
       "      <th>4</th>\n",
       "      <td>0.023857</td>\n",
       "      <td>-0.023857</td>\n",
       "      <td>-0.048831</td>\n",
       "      <td>0.611376</td>\n",
       "      <td>0.558939</td>\n",
       "      <td>1.239325</td>\n",
       "      <td>1.490970</td>\n",
       "      <td>1.644162</td>\n",
       "      <td>-1.392196</td>\n",
       "      <td>0.226118</td>\n",
       "      <td>-0.220048</td>\n",
       "      <td>0.119411</td>\n",
       "      <td>0.195221</td>\n",
       "      <td>0.803916</td>\n",
       "      <td>-0.270695</td>\n",
       "    </tr>\n",
       "  </tbody>\n",
       "</table>\n",
       "</div>"
      ],
      "text/plain": [
       "    home_wp   away_wp  yardline_100  home_timeouts_remaining  \\\n",
       "0 -0.145385  0.145385      0.960025                 0.611376   \n",
       "1 -0.009991  0.009991      0.581704                 0.611376   \n",
       "2 -0.009991  0.009991      0.497633                 0.611376   \n",
       "3  0.091554 -0.091554     -0.006795                 0.611376   \n",
       "4  0.023857 -0.023857     -0.048831                 0.611376   \n",
       "\n",
       "   away_timeouts_remaining  quarter_seconds_remaining  half_seconds_remaining  \\\n",
       "0                 0.558939                   1.797918                1.761081   \n",
       "1                 0.558939                   1.652684                1.690852   \n",
       "2                 0.558939                   1.507450                1.620623   \n",
       "3                 0.558939                   1.377111                1.557597   \n",
       "4                 0.558939                   1.239325                1.490970   \n",
       "\n",
       "   game_seconds_remaining       qtr      down  goal_to_go   ydstogo  \\\n",
       "0                1.784537 -1.392196 -0.953008   -0.220048  0.373542   \n",
       "1                1.748040 -1.392196  0.226118   -0.220048 -1.913638   \n",
       "2                1.711542 -1.392196 -0.953008   -0.220048  0.373542   \n",
       "3                1.678788 -1.392196 -0.953008   -0.220048  0.373542   \n",
       "4                1.644162 -1.392196  0.226118   -0.220048  0.119411   \n",
       "\n",
       "   score_differential   shotgun  no_huddle  \n",
       "0            0.195221  0.803916  -0.270695  \n",
       "1            0.195221 -1.243911  -0.270695  \n",
       "2            0.195221 -1.243911  -0.270695  \n",
       "3            0.195221 -1.243911  -0.270695  \n",
       "4            0.195221  0.803916  -0.270695  "
      ]
     },
     "execution_count": 38,
     "metadata": {},
     "output_type": "execute_result"
    }
   ],
   "source": [
    "num_scaled.head()"
   ]
  },
  {
   "cell_type": "code",
   "execution_count": 39,
   "metadata": {},
   "outputs": [],
   "source": [
    "num_scaled.set_index(df_num.index, inplace=True)"
   ]
  },
  {
   "cell_type": "code",
   "execution_count": 40,
   "metadata": {},
   "outputs": [],
   "source": [
    "df_cat['play_type'].replace('pass', 1, inplace=True)\n",
    "df_cat['play_type'].replace('run', 0, inplace=True)"
   ]
  },
  {
   "cell_type": "code",
   "execution_count": 41,
   "metadata": {},
   "outputs": [
    {
     "data": {
      "text/html": [
       "<div>\n",
       "<style scoped>\n",
       "    .dataframe tbody tr th:only-of-type {\n",
       "        vertical-align: middle;\n",
       "    }\n",
       "\n",
       "    .dataframe tbody tr th {\n",
       "        vertical-align: top;\n",
       "    }\n",
       "\n",
       "    .dataframe thead th {\n",
       "        text-align: right;\n",
       "    }\n",
       "</style>\n",
       "<table border=\"1\" class=\"dataframe\">\n",
       "  <thead>\n",
       "    <tr style=\"text-align: right;\">\n",
       "      <th></th>\n",
       "      <th>posteam</th>\n",
       "      <th>home_team</th>\n",
       "      <th>play_type</th>\n",
       "    </tr>\n",
       "    <tr>\n",
       "      <th>Unnamed: 0</th>\n",
       "      <th></th>\n",
       "      <th></th>\n",
       "      <th></th>\n",
       "    </tr>\n",
       "  </thead>\n",
       "  <tbody>\n",
       "    <tr>\n",
       "      <th>943</th>\n",
       "      <td>MIN</td>\n",
       "      <td>MIN</td>\n",
       "      <td>1</td>\n",
       "    </tr>\n",
       "    <tr>\n",
       "      <th>944</th>\n",
       "      <td>MIN</td>\n",
       "      <td>MIN</td>\n",
       "      <td>0</td>\n",
       "    </tr>\n",
       "    <tr>\n",
       "      <th>945</th>\n",
       "      <td>MIN</td>\n",
       "      <td>MIN</td>\n",
       "      <td>1</td>\n",
       "    </tr>\n",
       "    <tr>\n",
       "      <th>946</th>\n",
       "      <td>MIN</td>\n",
       "      <td>MIN</td>\n",
       "      <td>0</td>\n",
       "    </tr>\n",
       "    <tr>\n",
       "      <th>947</th>\n",
       "      <td>MIN</td>\n",
       "      <td>MIN</td>\n",
       "      <td>0</td>\n",
       "    </tr>\n",
       "  </tbody>\n",
       "</table>\n",
       "</div>"
      ],
      "text/plain": [
       "           posteam home_team  play_type\n",
       "Unnamed: 0                             \n",
       "943            MIN       MIN          1\n",
       "944            MIN       MIN          0\n",
       "945            MIN       MIN          1\n",
       "946            MIN       MIN          0\n",
       "947            MIN       MIN          0"
      ]
     },
     "execution_count": 41,
     "metadata": {},
     "output_type": "execute_result"
    }
   ],
   "source": [
    "df_cat.head()"
   ]
  },
  {
   "cell_type": "code",
   "execution_count": 42,
   "metadata": {},
   "outputs": [
    {
     "data": {
      "text/html": [
       "<div>\n",
       "<style scoped>\n",
       "    .dataframe tbody tr th:only-of-type {\n",
       "        vertical-align: middle;\n",
       "    }\n",
       "\n",
       "    .dataframe tbody tr th {\n",
       "        vertical-align: top;\n",
       "    }\n",
       "\n",
       "    .dataframe thead th {\n",
       "        text-align: right;\n",
       "    }\n",
       "</style>\n",
       "<table border=\"1\" class=\"dataframe\">\n",
       "  <thead>\n",
       "    <tr style=\"text-align: right;\">\n",
       "      <th></th>\n",
       "      <th>play_type</th>\n",
       "    </tr>\n",
       "    <tr>\n",
       "      <th>Unnamed: 0</th>\n",
       "      <th></th>\n",
       "    </tr>\n",
       "  </thead>\n",
       "  <tbody>\n",
       "    <tr>\n",
       "      <th>943</th>\n",
       "      <td>1</td>\n",
       "    </tr>\n",
       "    <tr>\n",
       "      <th>944</th>\n",
       "      <td>0</td>\n",
       "    </tr>\n",
       "    <tr>\n",
       "      <th>945</th>\n",
       "      <td>1</td>\n",
       "    </tr>\n",
       "    <tr>\n",
       "      <th>946</th>\n",
       "      <td>0</td>\n",
       "    </tr>\n",
       "    <tr>\n",
       "      <th>947</th>\n",
       "      <td>0</td>\n",
       "    </tr>\n",
       "  </tbody>\n",
       "</table>\n",
       "</div>"
      ],
      "text/plain": [
       "            play_type\n",
       "Unnamed: 0           \n",
       "943                 1\n",
       "944                 0\n",
       "945                 1\n",
       "946                 0\n",
       "947                 0"
      ]
     },
     "execution_count": 42,
     "metadata": {},
     "output_type": "execute_result"
    }
   ],
   "source": [
    "df_cat2 = df_cat.drop(columns=['posteam', 'home_team'])\n",
    "df_cat2.head()"
   ]
  },
  {
   "cell_type": "code",
   "execution_count": 43,
   "metadata": {},
   "outputs": [
    {
     "data": {
      "text/plain": [
       "(996, 16)"
      ]
     },
     "execution_count": 43,
     "metadata": {},
     "output_type": "execute_result"
    }
   ],
   "source": [
    "final_df = pd.concat([num_scaled, df_cat2], axis=1)\n",
    "final_df.shape"
   ]
  },
  {
   "cell_type": "code",
   "execution_count": 44,
   "metadata": {},
   "outputs": [
    {
     "data": {
      "text/html": [
       "<div>\n",
       "<style scoped>\n",
       "    .dataframe tbody tr th:only-of-type {\n",
       "        vertical-align: middle;\n",
       "    }\n",
       "\n",
       "    .dataframe tbody tr th {\n",
       "        vertical-align: top;\n",
       "    }\n",
       "\n",
       "    .dataframe thead th {\n",
       "        text-align: right;\n",
       "    }\n",
       "</style>\n",
       "<table border=\"1\" class=\"dataframe\">\n",
       "  <thead>\n",
       "    <tr style=\"text-align: right;\">\n",
       "      <th></th>\n",
       "      <th>home_wp</th>\n",
       "      <th>away_wp</th>\n",
       "      <th>yardline_100</th>\n",
       "      <th>home_timeouts_remaining</th>\n",
       "      <th>away_timeouts_remaining</th>\n",
       "      <th>quarter_seconds_remaining</th>\n",
       "      <th>half_seconds_remaining</th>\n",
       "      <th>game_seconds_remaining</th>\n",
       "      <th>qtr</th>\n",
       "      <th>down</th>\n",
       "      <th>goal_to_go</th>\n",
       "      <th>ydstogo</th>\n",
       "      <th>score_differential</th>\n",
       "      <th>shotgun</th>\n",
       "      <th>no_huddle</th>\n",
       "      <th>play_type</th>\n",
       "    </tr>\n",
       "    <tr>\n",
       "      <th>Unnamed: 0</th>\n",
       "      <th></th>\n",
       "      <th></th>\n",
       "      <th></th>\n",
       "      <th></th>\n",
       "      <th></th>\n",
       "      <th></th>\n",
       "      <th></th>\n",
       "      <th></th>\n",
       "      <th></th>\n",
       "      <th></th>\n",
       "      <th></th>\n",
       "      <th></th>\n",
       "      <th></th>\n",
       "      <th></th>\n",
       "      <th></th>\n",
       "      <th></th>\n",
       "    </tr>\n",
       "  </thead>\n",
       "  <tbody>\n",
       "    <tr>\n",
       "      <th>943</th>\n",
       "      <td>-0.145385</td>\n",
       "      <td>0.145385</td>\n",
       "      <td>0.960025</td>\n",
       "      <td>0.611376</td>\n",
       "      <td>0.558939</td>\n",
       "      <td>1.797918</td>\n",
       "      <td>1.761081</td>\n",
       "      <td>1.784537</td>\n",
       "      <td>-1.392196</td>\n",
       "      <td>-0.953008</td>\n",
       "      <td>-0.220048</td>\n",
       "      <td>0.373542</td>\n",
       "      <td>0.195221</td>\n",
       "      <td>0.803916</td>\n",
       "      <td>-0.270695</td>\n",
       "      <td>1</td>\n",
       "    </tr>\n",
       "    <tr>\n",
       "      <th>944</th>\n",
       "      <td>-0.009991</td>\n",
       "      <td>0.009991</td>\n",
       "      <td>0.581704</td>\n",
       "      <td>0.611376</td>\n",
       "      <td>0.558939</td>\n",
       "      <td>1.652684</td>\n",
       "      <td>1.690852</td>\n",
       "      <td>1.748040</td>\n",
       "      <td>-1.392196</td>\n",
       "      <td>0.226118</td>\n",
       "      <td>-0.220048</td>\n",
       "      <td>-1.913638</td>\n",
       "      <td>0.195221</td>\n",
       "      <td>-1.243911</td>\n",
       "      <td>-0.270695</td>\n",
       "      <td>0</td>\n",
       "    </tr>\n",
       "    <tr>\n",
       "      <th>945</th>\n",
       "      <td>-0.009991</td>\n",
       "      <td>0.009991</td>\n",
       "      <td>0.497633</td>\n",
       "      <td>0.611376</td>\n",
       "      <td>0.558939</td>\n",
       "      <td>1.507450</td>\n",
       "      <td>1.620623</td>\n",
       "      <td>1.711542</td>\n",
       "      <td>-1.392196</td>\n",
       "      <td>-0.953008</td>\n",
       "      <td>-0.220048</td>\n",
       "      <td>0.373542</td>\n",
       "      <td>0.195221</td>\n",
       "      <td>-1.243911</td>\n",
       "      <td>-0.270695</td>\n",
       "      <td>1</td>\n",
       "    </tr>\n",
       "    <tr>\n",
       "      <th>946</th>\n",
       "      <td>0.091554</td>\n",
       "      <td>-0.091554</td>\n",
       "      <td>-0.006795</td>\n",
       "      <td>0.611376</td>\n",
       "      <td>0.558939</td>\n",
       "      <td>1.377111</td>\n",
       "      <td>1.557597</td>\n",
       "      <td>1.678788</td>\n",
       "      <td>-1.392196</td>\n",
       "      <td>-0.953008</td>\n",
       "      <td>-0.220048</td>\n",
       "      <td>0.373542</td>\n",
       "      <td>0.195221</td>\n",
       "      <td>-1.243911</td>\n",
       "      <td>-0.270695</td>\n",
       "      <td>0</td>\n",
       "    </tr>\n",
       "    <tr>\n",
       "      <th>947</th>\n",
       "      <td>0.023857</td>\n",
       "      <td>-0.023857</td>\n",
       "      <td>-0.048831</td>\n",
       "      <td>0.611376</td>\n",
       "      <td>0.558939</td>\n",
       "      <td>1.239325</td>\n",
       "      <td>1.490970</td>\n",
       "      <td>1.644162</td>\n",
       "      <td>-1.392196</td>\n",
       "      <td>0.226118</td>\n",
       "      <td>-0.220048</td>\n",
       "      <td>0.119411</td>\n",
       "      <td>0.195221</td>\n",
       "      <td>0.803916</td>\n",
       "      <td>-0.270695</td>\n",
       "      <td>0</td>\n",
       "    </tr>\n",
       "  </tbody>\n",
       "</table>\n",
       "</div>"
      ],
      "text/plain": [
       "             home_wp   away_wp  yardline_100  home_timeouts_remaining  \\\n",
       "Unnamed: 0                                                              \n",
       "943        -0.145385  0.145385      0.960025                 0.611376   \n",
       "944        -0.009991  0.009991      0.581704                 0.611376   \n",
       "945        -0.009991  0.009991      0.497633                 0.611376   \n",
       "946         0.091554 -0.091554     -0.006795                 0.611376   \n",
       "947         0.023857 -0.023857     -0.048831                 0.611376   \n",
       "\n",
       "            away_timeouts_remaining  quarter_seconds_remaining  \\\n",
       "Unnamed: 0                                                       \n",
       "943                        0.558939                   1.797918   \n",
       "944                        0.558939                   1.652684   \n",
       "945                        0.558939                   1.507450   \n",
       "946                        0.558939                   1.377111   \n",
       "947                        0.558939                   1.239325   \n",
       "\n",
       "            half_seconds_remaining  game_seconds_remaining       qtr  \\\n",
       "Unnamed: 0                                                             \n",
       "943                       1.761081                1.784537 -1.392196   \n",
       "944                       1.690852                1.748040 -1.392196   \n",
       "945                       1.620623                1.711542 -1.392196   \n",
       "946                       1.557597                1.678788 -1.392196   \n",
       "947                       1.490970                1.644162 -1.392196   \n",
       "\n",
       "                down  goal_to_go   ydstogo  score_differential   shotgun  \\\n",
       "Unnamed: 0                                                                 \n",
       "943        -0.953008   -0.220048  0.373542            0.195221  0.803916   \n",
       "944         0.226118   -0.220048 -1.913638            0.195221 -1.243911   \n",
       "945        -0.953008   -0.220048  0.373542            0.195221 -1.243911   \n",
       "946        -0.953008   -0.220048  0.373542            0.195221 -1.243911   \n",
       "947         0.226118   -0.220048  0.119411            0.195221  0.803916   \n",
       "\n",
       "            no_huddle  play_type  \n",
       "Unnamed: 0                        \n",
       "943         -0.270695          1  \n",
       "944         -0.270695          0  \n",
       "945         -0.270695          1  \n",
       "946         -0.270695          0  \n",
       "947         -0.270695          0  "
      ]
     },
     "execution_count": 44,
     "metadata": {},
     "output_type": "execute_result"
    }
   ],
   "source": [
    "final_df.head()"
   ]
  },
  {
   "cell_type": "code",
   "execution_count": 45,
   "metadata": {},
   "outputs": [
    {
     "data": {
      "text/plain": [
       " 0.803916    605\n",
       "-1.243911    391\n",
       "Name: shotgun, dtype: int64"
      ]
     },
     "execution_count": 45,
     "metadata": {},
     "output_type": "execute_result"
    }
   ],
   "source": [
    "final_df['shotgun'].value_counts()"
   ]
  },
  {
   "cell_type": "markdown",
   "metadata": {},
   "source": [
    "# TESTING"
   ]
  },
  {
   "cell_type": "code",
   "execution_count": 46,
   "metadata": {},
   "outputs": [],
   "source": [
    "X = final_df.drop(columns='play_type')\n",
    "y = final_df['play_type']"
   ]
  },
  {
   "cell_type": "code",
   "execution_count": 47,
   "metadata": {},
   "outputs": [],
   "source": [
    "X_train, X_test, y_train, y_test = train_test_split(X, y, test_size = .3, random_state = 42)"
   ]
  },
  {
   "cell_type": "code",
   "execution_count": 48,
   "metadata": {},
   "outputs": [
    {
     "name": "stdout",
     "output_type": "stream",
     "text": [
      "(697, 15)\n"
     ]
    },
    {
     "data": {
      "text/html": [
       "<div>\n",
       "<style scoped>\n",
       "    .dataframe tbody tr th:only-of-type {\n",
       "        vertical-align: middle;\n",
       "    }\n",
       "\n",
       "    .dataframe tbody tr th {\n",
       "        vertical-align: top;\n",
       "    }\n",
       "\n",
       "    .dataframe thead th {\n",
       "        text-align: right;\n",
       "    }\n",
       "</style>\n",
       "<table border=\"1\" class=\"dataframe\">\n",
       "  <thead>\n",
       "    <tr style=\"text-align: right;\">\n",
       "      <th></th>\n",
       "      <th>home_wp</th>\n",
       "      <th>away_wp</th>\n",
       "      <th>yardline_100</th>\n",
       "      <th>home_timeouts_remaining</th>\n",
       "      <th>away_timeouts_remaining</th>\n",
       "      <th>quarter_seconds_remaining</th>\n",
       "      <th>half_seconds_remaining</th>\n",
       "      <th>game_seconds_remaining</th>\n",
       "      <th>qtr</th>\n",
       "      <th>down</th>\n",
       "      <th>goal_to_go</th>\n",
       "      <th>ydstogo</th>\n",
       "      <th>score_differential</th>\n",
       "      <th>shotgun</th>\n",
       "      <th>no_huddle</th>\n",
       "    </tr>\n",
       "    <tr>\n",
       "      <th>Unnamed: 0</th>\n",
       "      <th></th>\n",
       "      <th></th>\n",
       "      <th></th>\n",
       "      <th></th>\n",
       "      <th></th>\n",
       "      <th></th>\n",
       "      <th></th>\n",
       "      <th></th>\n",
       "      <th></th>\n",
       "      <th></th>\n",
       "      <th></th>\n",
       "      <th></th>\n",
       "      <th></th>\n",
       "      <th></th>\n",
       "      <th></th>\n",
       "    </tr>\n",
       "  </thead>\n",
       "  <tbody>\n",
       "    <tr>\n",
       "      <th>30835</th>\n",
       "      <td>-0.382323</td>\n",
       "      <td>0.382323</td>\n",
       "      <td>1.170203</td>\n",
       "      <td>-0.631339</td>\n",
       "      <td>0.558939</td>\n",
       "      <td>0.609977</td>\n",
       "      <td>1.186646</td>\n",
       "      <td>1.486006</td>\n",
       "      <td>-1.392196</td>\n",
       "      <td>1.405244</td>\n",
       "      <td>-0.220048</td>\n",
       "      <td>1.390067</td>\n",
       "      <td>0.195221</td>\n",
       "      <td>0.803916</td>\n",
       "      <td>-0.270695</td>\n",
       "    </tr>\n",
       "    <tr>\n",
       "      <th>40404</th>\n",
       "      <td>-1.194682</td>\n",
       "      <td>1.194682</td>\n",
       "      <td>-1.646185</td>\n",
       "      <td>0.611376</td>\n",
       "      <td>0.558939</td>\n",
       "      <td>0.889273</td>\n",
       "      <td>1.321701</td>\n",
       "      <td>-0.128308</td>\n",
       "      <td>0.353087</td>\n",
       "      <td>-0.953008</td>\n",
       "      <td>-0.220048</td>\n",
       "      <td>0.373542</td>\n",
       "      <td>0.682540</td>\n",
       "      <td>-1.243911</td>\n",
       "      <td>-0.270695</td>\n",
       "    </tr>\n",
       "    <tr>\n",
       "      <th>40425</th>\n",
       "      <td>-1.296227</td>\n",
       "      <td>1.296227</td>\n",
       "      <td>-0.301044</td>\n",
       "      <td>0.611376</td>\n",
       "      <td>0.558939</td>\n",
       "      <td>-1.002495</td>\n",
       "      <td>0.406928</td>\n",
       "      <td>-0.603712</td>\n",
       "      <td>0.353087</td>\n",
       "      <td>0.226118</td>\n",
       "      <td>-0.220048</td>\n",
       "      <td>1.135936</td>\n",
       "      <td>0.974932</td>\n",
       "      <td>0.803916</td>\n",
       "      <td>-0.270695</td>\n",
       "    </tr>\n",
       "    <tr>\n",
       "      <th>15101</th>\n",
       "      <td>0.362340</td>\n",
       "      <td>-0.362340</td>\n",
       "      <td>0.960025</td>\n",
       "      <td>0.611376</td>\n",
       "      <td>0.558939</td>\n",
       "      <td>1.797918</td>\n",
       "      <td>1.761081</td>\n",
       "      <td>0.100036</td>\n",
       "      <td>0.353087</td>\n",
       "      <td>-0.953008</td>\n",
       "      <td>-0.220048</td>\n",
       "      <td>0.373542</td>\n",
       "      <td>0.585076</td>\n",
       "      <td>-1.243911</td>\n",
       "      <td>-0.270695</td>\n",
       "    </tr>\n",
       "    <tr>\n",
       "      <th>40456</th>\n",
       "      <td>-1.770104</td>\n",
       "      <td>1.770104</td>\n",
       "      <td>-1.772292</td>\n",
       "      <td>0.611376</td>\n",
       "      <td>0.558939</td>\n",
       "      <td>-0.432730</td>\n",
       "      <td>-0.938221</td>\n",
       "      <td>-1.302780</td>\n",
       "      <td>1.225729</td>\n",
       "      <td>1.405244</td>\n",
       "      <td>4.544466</td>\n",
       "      <td>0.373542</td>\n",
       "      <td>1.657178</td>\n",
       "      <td>-1.243911</td>\n",
       "      <td>-0.270695</td>\n",
       "    </tr>\n",
       "  </tbody>\n",
       "</table>\n",
       "</div>"
      ],
      "text/plain": [
       "             home_wp   away_wp  yardline_100  home_timeouts_remaining  \\\n",
       "Unnamed: 0                                                              \n",
       "30835      -0.382323  0.382323      1.170203                -0.631339   \n",
       "40404      -1.194682  1.194682     -1.646185                 0.611376   \n",
       "40425      -1.296227  1.296227     -0.301044                 0.611376   \n",
       "15101       0.362340 -0.362340      0.960025                 0.611376   \n",
       "40456      -1.770104  1.770104     -1.772292                 0.611376   \n",
       "\n",
       "            away_timeouts_remaining  quarter_seconds_remaining  \\\n",
       "Unnamed: 0                                                       \n",
       "30835                      0.558939                   0.609977   \n",
       "40404                      0.558939                   0.889273   \n",
       "40425                      0.558939                  -1.002495   \n",
       "15101                      0.558939                   1.797918   \n",
       "40456                      0.558939                  -0.432730   \n",
       "\n",
       "            half_seconds_remaining  game_seconds_remaining       qtr  \\\n",
       "Unnamed: 0                                                             \n",
       "30835                     1.186646                1.486006 -1.392196   \n",
       "40404                     1.321701               -0.128308  0.353087   \n",
       "40425                     0.406928               -0.603712  0.353087   \n",
       "15101                     1.761081                0.100036  0.353087   \n",
       "40456                    -0.938221               -1.302780  1.225729   \n",
       "\n",
       "                down  goal_to_go   ydstogo  score_differential   shotgun  \\\n",
       "Unnamed: 0                                                                 \n",
       "30835       1.405244   -0.220048  1.390067            0.195221  0.803916   \n",
       "40404      -0.953008   -0.220048  0.373542            0.682540 -1.243911   \n",
       "40425       0.226118   -0.220048  1.135936            0.974932  0.803916   \n",
       "15101      -0.953008   -0.220048  0.373542            0.585076 -1.243911   \n",
       "40456       1.405244    4.544466  0.373542            1.657178 -1.243911   \n",
       "\n",
       "            no_huddle  \n",
       "Unnamed: 0             \n",
       "30835       -0.270695  \n",
       "40404       -0.270695  \n",
       "40425       -0.270695  \n",
       "15101       -0.270695  \n",
       "40456       -0.270695  "
      ]
     },
     "execution_count": 48,
     "metadata": {},
     "output_type": "execute_result"
    }
   ],
   "source": [
    "print(X_train.shape)\n",
    "X_train.head()"
   ]
  },
  {
   "cell_type": "code",
   "execution_count": 49,
   "metadata": {},
   "outputs": [
    {
     "name": "stdout",
     "output_type": "stream",
     "text": [
      "(299, 15)\n"
     ]
    },
    {
     "data": {
      "text/html": [
       "<div>\n",
       "<style scoped>\n",
       "    .dataframe tbody tr th:only-of-type {\n",
       "        vertical-align: middle;\n",
       "    }\n",
       "\n",
       "    .dataframe tbody tr th {\n",
       "        vertical-align: top;\n",
       "    }\n",
       "\n",
       "    .dataframe thead th {\n",
       "        text-align: right;\n",
       "    }\n",
       "</style>\n",
       "<table border=\"1\" class=\"dataframe\">\n",
       "  <thead>\n",
       "    <tr style=\"text-align: right;\">\n",
       "      <th></th>\n",
       "      <th>home_wp</th>\n",
       "      <th>away_wp</th>\n",
       "      <th>yardline_100</th>\n",
       "      <th>home_timeouts_remaining</th>\n",
       "      <th>away_timeouts_remaining</th>\n",
       "      <th>quarter_seconds_remaining</th>\n",
       "      <th>half_seconds_remaining</th>\n",
       "      <th>game_seconds_remaining</th>\n",
       "      <th>qtr</th>\n",
       "      <th>down</th>\n",
       "      <th>goal_to_go</th>\n",
       "      <th>ydstogo</th>\n",
       "      <th>score_differential</th>\n",
       "      <th>shotgun</th>\n",
       "      <th>no_huddle</th>\n",
       "    </tr>\n",
       "    <tr>\n",
       "      <th>Unnamed: 0</th>\n",
       "      <th></th>\n",
       "      <th></th>\n",
       "      <th></th>\n",
       "      <th></th>\n",
       "      <th></th>\n",
       "      <th></th>\n",
       "      <th></th>\n",
       "      <th></th>\n",
       "      <th></th>\n",
       "      <th></th>\n",
       "      <th></th>\n",
       "      <th></th>\n",
       "      <th></th>\n",
       "      <th></th>\n",
       "      <th></th>\n",
       "    </tr>\n",
       "  </thead>\n",
       "  <tbody>\n",
       "    <tr>\n",
       "      <th>38463</th>\n",
       "      <td>0.903913</td>\n",
       "      <td>-0.903913</td>\n",
       "      <td>-0.048831</td>\n",
       "      <td>0.611376</td>\n",
       "      <td>0.558939</td>\n",
       "      <td>0.390264</td>\n",
       "      <td>1.080403</td>\n",
       "      <td>1.430792</td>\n",
       "      <td>-1.392196</td>\n",
       "      <td>0.226118</td>\n",
       "      <td>-0.220048</td>\n",
       "      <td>-1.913638</td>\n",
       "      <td>0.877468</td>\n",
       "      <td>-1.243911</td>\n",
       "      <td>-0.270695</td>\n",
       "    </tr>\n",
       "    <tr>\n",
       "      <th>44208</th>\n",
       "      <td>-1.296227</td>\n",
       "      <td>1.296227</td>\n",
       "      <td>1.422417</td>\n",
       "      <td>0.611376</td>\n",
       "      <td>0.558939</td>\n",
       "      <td>0.416331</td>\n",
       "      <td>1.093008</td>\n",
       "      <td>-0.247159</td>\n",
       "      <td>0.353087</td>\n",
       "      <td>0.226118</td>\n",
       "      <td>-0.220048</td>\n",
       "      <td>-1.151245</td>\n",
       "      <td>-0.779417</td>\n",
       "      <td>-1.243911</td>\n",
       "      <td>-0.270695</td>\n",
       "    </tr>\n",
       "    <tr>\n",
       "      <th>4476</th>\n",
       "      <td>0.260795</td>\n",
       "      <td>-0.260795</td>\n",
       "      <td>-0.721401</td>\n",
       "      <td>-0.631339</td>\n",
       "      <td>0.558939</td>\n",
       "      <td>-1.121661</td>\n",
       "      <td>-1.271357</td>\n",
       "      <td>0.208592</td>\n",
       "      <td>-0.519555</td>\n",
       "      <td>0.226118</td>\n",
       "      <td>-0.220048</td>\n",
       "      <td>0.373542</td>\n",
       "      <td>-0.389562</td>\n",
       "      <td>-1.243911</td>\n",
       "      <td>-0.270695</td>\n",
       "    </tr>\n",
       "    <tr>\n",
       "      <th>28214</th>\n",
       "      <td>-0.179233</td>\n",
       "      <td>0.179233</td>\n",
       "      <td>-0.595294</td>\n",
       "      <td>-0.631339</td>\n",
       "      <td>0.558939</td>\n",
       "      <td>-0.551897</td>\n",
       "      <td>0.624817</td>\n",
       "      <td>1.194026</td>\n",
       "      <td>-1.392196</td>\n",
       "      <td>0.226118</td>\n",
       "      <td>-0.220048</td>\n",
       "      <td>0.373542</td>\n",
       "      <td>-0.097170</td>\n",
       "      <td>0.803916</td>\n",
       "      <td>-0.270695</td>\n",
       "    </tr>\n",
       "    <tr>\n",
       "      <th>17525</th>\n",
       "      <td>-1.465469</td>\n",
       "      <td>1.465469</td>\n",
       "      <td>-1.730256</td>\n",
       "      <td>0.611376</td>\n",
       "      <td>0.558939</td>\n",
       "      <td>-0.082678</td>\n",
       "      <td>0.851710</td>\n",
       "      <td>-0.372561</td>\n",
       "      <td>0.353087</td>\n",
       "      <td>1.405244</td>\n",
       "      <td>4.544466</td>\n",
       "      <td>0.627673</td>\n",
       "      <td>1.169859</td>\n",
       "      <td>0.803916</td>\n",
       "      <td>-0.270695</td>\n",
       "    </tr>\n",
       "  </tbody>\n",
       "</table>\n",
       "</div>"
      ],
      "text/plain": [
       "             home_wp   away_wp  yardline_100  home_timeouts_remaining  \\\n",
       "Unnamed: 0                                                              \n",
       "38463       0.903913 -0.903913     -0.048831                 0.611376   \n",
       "44208      -1.296227  1.296227      1.422417                 0.611376   \n",
       "4476        0.260795 -0.260795     -0.721401                -0.631339   \n",
       "28214      -0.179233  0.179233     -0.595294                -0.631339   \n",
       "17525      -1.465469  1.465469     -1.730256                 0.611376   \n",
       "\n",
       "            away_timeouts_remaining  quarter_seconds_remaining  \\\n",
       "Unnamed: 0                                                       \n",
       "38463                      0.558939                   0.390264   \n",
       "44208                      0.558939                   0.416331   \n",
       "4476                       0.558939                  -1.121661   \n",
       "28214                      0.558939                  -0.551897   \n",
       "17525                      0.558939                  -0.082678   \n",
       "\n",
       "            half_seconds_remaining  game_seconds_remaining       qtr  \\\n",
       "Unnamed: 0                                                             \n",
       "38463                     1.080403                1.430792 -1.392196   \n",
       "44208                     1.093008               -0.247159  0.353087   \n",
       "4476                     -1.271357                0.208592 -0.519555   \n",
       "28214                     0.624817                1.194026 -1.392196   \n",
       "17525                     0.851710               -0.372561  0.353087   \n",
       "\n",
       "                down  goal_to_go   ydstogo  score_differential   shotgun  \\\n",
       "Unnamed: 0                                                                 \n",
       "38463       0.226118   -0.220048 -1.913638            0.877468 -1.243911   \n",
       "44208       0.226118   -0.220048 -1.151245           -0.779417 -1.243911   \n",
       "4476        0.226118   -0.220048  0.373542           -0.389562 -1.243911   \n",
       "28214       0.226118   -0.220048  0.373542           -0.097170  0.803916   \n",
       "17525       1.405244    4.544466  0.627673            1.169859  0.803916   \n",
       "\n",
       "            no_huddle  \n",
       "Unnamed: 0             \n",
       "38463       -0.270695  \n",
       "44208       -0.270695  \n",
       "4476        -0.270695  \n",
       "28214       -0.270695  \n",
       "17525       -0.270695  "
      ]
     },
     "execution_count": 49,
     "metadata": {},
     "output_type": "execute_result"
    }
   ],
   "source": [
    "print(X_test.shape)\n",
    "X_test.head()"
   ]
  },
  {
   "cell_type": "code",
   "execution_count": 50,
   "metadata": {},
   "outputs": [
    {
     "name": "stdout",
     "output_type": "stream",
     "text": [
      "(697,)\n"
     ]
    },
    {
     "data": {
      "text/plain": [
       "Unnamed: 0\n",
       "30835    1\n",
       "40404    0\n",
       "40425    1\n",
       "15101    0\n",
       "40456    0\n",
       "Name: play_type, dtype: int64"
      ]
     },
     "execution_count": 50,
     "metadata": {},
     "output_type": "execute_result"
    }
   ],
   "source": [
    "print(y_train.shape)\n",
    "y_train.head()"
   ]
  },
  {
   "cell_type": "code",
   "execution_count": 51,
   "metadata": {},
   "outputs": [
    {
     "name": "stdout",
     "output_type": "stream",
     "text": [
      "(299,)\n"
     ]
    },
    {
     "data": {
      "text/plain": [
       "Unnamed: 0\n",
       "38463    0\n",
       "44208    0\n",
       "4476     0\n",
       "28214    0\n",
       "17525    1\n",
       "Name: play_type, dtype: int64"
      ]
     },
     "execution_count": 51,
     "metadata": {},
     "output_type": "execute_result"
    }
   ],
   "source": [
    "print(y_test.shape)\n",
    "y_test.head()"
   ]
  },
  {
   "cell_type": "markdown",
   "metadata": {},
   "source": [
    "# LOGISTIC REGRESSION"
   ]
  },
  {
   "cell_type": "code",
   "execution_count": 52,
   "metadata": {},
   "outputs": [],
   "source": [
    "lr = LogisticRegression()\n",
    "lr.fit(X_train, y_train)\n",
    "y_hat_test = lr.predict(X_test)\n",
    "y_hat_prob = lr.predict_proba(X_test)"
   ]
  },
  {
   "cell_type": "code",
   "execution_count": 53,
   "metadata": {},
   "outputs": [
    {
     "name": "stdout",
     "output_type": "stream",
     "text": [
      "Accuracy Score: 0.7558528428093646\n",
      "Recall Score: 0.8038277511961722\n",
      "Precision Score: 0.84\n",
      "F1 Score: 0.8215158924205378\n"
     ]
    }
   ],
   "source": [
    "print('Accuracy Score:', accuracy_score(y_test, y_hat_test))\n",
    "print('Recall Score:', recall_score(y_test, y_hat_test))\n",
    "print('Precision Score:', precision_score(y_test, y_hat_test))\n",
    "print('F1 Score:', f1_score(y_test, y_hat_test))"
   ]
  },
  {
   "cell_type": "code",
   "execution_count": 54,
   "metadata": {},
   "outputs": [],
   "source": [
    "# run = 0, pass = 1\n",
    "# prediction of run, then pass\n",
    "# y_hat_prob"
   ]
  },
  {
   "cell_type": "code",
   "execution_count": 55,
   "metadata": {},
   "outputs": [
    {
     "data": {
      "text/plain": [
       "0.7914938862307285"
      ]
     },
     "execution_count": 55,
     "metadata": {},
     "output_type": "execute_result"
    }
   ],
   "source": [
    "roc_auc_score(y_test, y_hat_prob[:,1])"
   ]
  },
  {
   "cell_type": "markdown",
   "metadata": {},
   "source": [
    "# KNN "
   ]
  },
  {
   "cell_type": "code",
   "execution_count": 56,
   "metadata": {},
   "outputs": [
    {
     "data": {
      "text/plain": [
       "0.6789297658862876"
      ]
     },
     "execution_count": 56,
     "metadata": {},
     "output_type": "execute_result"
    }
   ],
   "source": [
    "knn = KNeighborsClassifier(n_neighbors=5)\n",
    "knn.fit(X_train, y_train)\n",
    "preds = knn.predict(X_test)\n",
    "\n",
    "# also want actual probiblities\n",
    "preds_probability = knn.predict_proba(X_test)\n",
    "\n",
    "accuracy_score(y_test, preds)"
   ]
  },
  {
   "cell_type": "code",
   "execution_count": 57,
   "metadata": {},
   "outputs": [],
   "source": [
    "k_acc = {}\n",
    "k_prec = {}\n",
    "k_recall = {}\n",
    "\n",
    "for k in range(2,15): \n",
    "    knn = KNeighborsClassifier(n_neighbors=k)\n",
    "    knn.fit(X_train, y_train)\n",
    "    preds = knn.predict(X_test)\n",
    "\n",
    "    preds_probability = knn.predict_proba(X_test)\n",
    "\n",
    "    accuracy = accuracy_score(y_test, preds)\n",
    "    k_acc[k] = accuracy\n",
    "    \n",
    "    precision = precision_score(y_test, preds)\n",
    "    k_prec[k] = precision\n",
    "    \n",
    "    recall = recall_score(y_test, preds)\n",
    "    k_recall[k] = recall"
   ]
  },
  {
   "cell_type": "code",
   "execution_count": 58,
   "metadata": {},
   "outputs": [
    {
     "data": {
      "image/png": "[encoded data removed]",
      "text/plain": [
       "<Figure size 720x720 with 1 Axes>"
      ]
     },
     "metadata": {
      "needs_background": "light"
     },
     "output_type": "display_data"
    }
   ],
   "source": [
    "plt.figure(figsize=(10,10))\n",
    "plt.plot(list(k_acc.keys()), list(k_acc.values()), color='red', label='Accuracy')\n",
    "plt.plot(list(k_prec.keys()), list(k_prec.values()), color='Black', label='Precision')\n",
    "plt.plot(list(k_recall.keys()), list(k_recall.values()), color='blue', label='Recall')\n",
    "plt.legend(loc='lower right')\n",
    "plt.rcParams['text.color'] = 'black'\n",
    "plt.show()"
   ]
  },
  {
   "cell_type": "markdown",
   "metadata": {},
   "source": [
    "# DECISION TREE"
   ]
  },
  {
   "cell_type": "code",
   "execution_count": 59,
   "metadata": {},
   "outputs": [],
   "source": [
    "dt = DecisionTreeClassifier()\n",
    "dt.fit(X_train, y_train)\n",
    "y_hat = dt.predict(X_test)\n",
    "y_hat_probas = dt.predict_proba(X_test)"
   ]
  },
  {
   "cell_type": "code",
   "execution_count": 60,
   "metadata": {},
   "outputs": [
    {
     "data": {
      "text/plain": [
       "0.6889632107023411"
      ]
     },
     "execution_count": 60,
     "metadata": {},
     "output_type": "execute_result"
    }
   ],
   "source": [
    "accuracy_score(y_test, y_hat)"
   ]
  },
  {
   "cell_type": "code",
   "execution_count": 61,
   "metadata": {},
   "outputs": [],
   "source": [
    "from sklearn import tree\n",
    "model = tree.DecisionTreeClassifier()\n",
    "model.fit(X_train, y_train)\n",
    "y_predict = model.predict(X_test)\n",
    "y_hat_probas2 = model.predict_proba(X_test)"
   ]
  },
  {
   "cell_type": "code",
   "execution_count": 62,
   "metadata": {},
   "outputs": [
    {
     "data": {
      "text/plain": [
       "0.6956521739130435"
      ]
     },
     "execution_count": 62,
     "metadata": {},
     "output_type": "execute_result"
    }
   ],
   "source": [
    "accuracy_score(y_test, y_predict)"
   ]
  },
  {
   "cell_type": "code",
   "execution_count": 124,
   "metadata": {},
   "outputs": [
    {
     "data": {
      "text/html": [
       "<div>\n",
       "<style scoped>\n",
       "    .dataframe tbody tr th:only-of-type {\n",
       "        vertical-align: middle;\n",
       "    }\n",
       "\n",
       "    .dataframe tbody tr th {\n",
       "        vertical-align: top;\n",
       "    }\n",
       "\n",
       "    .dataframe thead th {\n",
       "        text-align: right;\n",
       "    }\n",
       "</style>\n",
       "<table border=\"1\" class=\"dataframe\">\n",
       "  <thead>\n",
       "    <tr style=\"text-align: right;\">\n",
       "      <th></th>\n",
       "      <th>Predicted Run</th>\n",
       "      <th>Predicted Pass</th>\n",
       "    </tr>\n",
       "  </thead>\n",
       "  <tbody>\n",
       "    <tr>\n",
       "      <th>Actual Run</th>\n",
       "      <td>48</td>\n",
       "      <td>42</td>\n",
       "    </tr>\n",
       "    <tr>\n",
       "      <th>Actual Pass</th>\n",
       "      <td>49</td>\n",
       "      <td>160</td>\n",
       "    </tr>\n",
       "  </tbody>\n",
       "</table>\n",
       "</div>"
      ],
      "text/plain": [
       "             Predicted Run  Predicted Pass\n",
       "Actual Run              48              42\n",
       "Actual Pass             49             160"
      ]
     },
     "execution_count": 124,
     "metadata": {},
     "output_type": "execute_result"
    }
   ],
   "source": [
    "pd.DataFrame(\n",
    "    confusion_matrix(y_test, y_predict),\n",
    "    columns=['Predicted Run', 'Predicted Pass'],\n",
    "    index=['Actual Run', 'Actual Pass']\n",
    ")"
   ]
  },
  {
   "cell_type": "code",
   "execution_count": 64,
   "metadata": {},
   "outputs": [],
   "source": [
    "# tree.export_graphviz(model, out_file='tree.dot', feature_names=X.columns)"
   ]
  },
  {
   "cell_type": "markdown",
   "metadata": {},
   "source": [
    "# RANDOM FOREST"
   ]
  },
  {
   "cell_type": "code",
   "execution_count": 109,
   "metadata": {},
   "outputs": [],
   "source": [
    "# random forest\n",
    "rf = RandomForestClassifier()\n",
    "hyperparameters = {'n_estimators':range(10,20,2),\n",
    "                  'criterion':('entropy','gini'),\n",
    "                  'max_depth':range(1,10,2),\n",
    "                  'min_samples_split':range(2,10,1)}\n",
    "clf = GridSearchCV(rf, hyperparameters, cv=5, verbose=0,n_jobs=-1)\n",
    "best_model = clf.fit(X_train, y_train)"
   ]
  },
  {
   "cell_type": "code",
   "execution_count": 111,
   "metadata": {},
   "outputs": [
    {
     "name": "stdout",
     "output_type": "stream",
     "text": [
      "Best Citerion: entropy\n",
      "Best n_estimator: 16\n",
      "Best min_sample_splits: 6\n",
      "Best max_depth: 5\n"
     ]
    }
   ],
   "source": [
    "print('Best Citerion:', best_model.best_estimator_.get_params()['criterion'])\n",
    "print('Best n_estimator:', best_model.best_estimator_.get_params()['n_estimators'])\n",
    "print('Best min_sample_splits:', best_model.best_estimator_.get_params()['min_samples_split'])\n",
    "print('Best max_depth:', best_model.best_estimator_.get_params()['max_depth'])"
   ]
  },
  {
   "cell_type": "code",
   "execution_count": 112,
   "metadata": {},
   "outputs": [],
   "source": [
    "y_pred = best_model.predict(X_test)\n",
    "y_hat_proba = best_model.predict_proba(X_test)[:,1]"
   ]
  },
  {
   "cell_type": "code",
   "execution_count": 115,
   "metadata": {},
   "outputs": [],
   "source": [
    "scores = cross_val_score(best_model, X_test, y_pred, cv=5)\n",
    "cm = confusion_matrix(y_test, y_pred)"
   ]
  },
  {
   "cell_type": "code",
   "execution_count": 116,
   "metadata": {},
   "outputs": [
    {
     "name": "stdout",
     "output_type": "stream",
     "text": [
      "Acuracy: 0.7391304347826086\n",
      "ROC_AUC: 0.7026847421584264\n",
      "[[ 55  35]\n",
      " [ 43 166]]\n",
      "Recall: 0.7942583732057417\n",
      "Precision: 0.8258706467661692\n"
     ]
    }
   ],
   "source": [
    "print('Acuracy:', accuracy_score(y_test, y_pred))\n",
    "print('ROC_AUC:', roc_auc_score(y_test, y_pred))\n",
    "print(cm)\n",
    "print('Recall:', recall_score(y_test, y_pred))\n",
    "print('Precision:', precision_score(y_test, y_pred))"
   ]
  },
  {
   "cell_type": "markdown",
   "metadata": {},
   "source": [
    "## Now create a new classifier with the desired hyperparameters"
   ]
  },
  {
   "cell_type": "code",
   "execution_count": 118,
   "metadata": {},
   "outputs": [],
   "source": [
    "rf2 = RandomForestClassifier(criterion='entropy', n_estimators=16, min_samples_split=6, max_depth=5)\n",
    "rf2.fit(X_train, y_train)\n",
    "y2 = rf2.predict(X_test)"
   ]
  },
  {
   "cell_type": "code",
   "execution_count": 122,
   "metadata": {},
   "outputs": [
    {
     "name": "stdout",
     "output_type": "stream",
     "text": [
      "Acuracy: 0.7525083612040134\n",
      "ROC_AUC: 0.7217437533227006\n",
      "Recall: 0.7990430622009569\n",
      "Precision: 0.8391959798994975\n"
     ]
    }
   ],
   "source": [
    "print('Acuracy:', accuracy_score(y_test, y2))\n",
    "print('ROC_AUC:', roc_auc_score(y_test, y2))\n",
    "# print(cm)\n",
    "print('Recall:', recall_score(y_test, y2))\n",
    "print('Precision:', precision_score(y_test, y2))"
   ]
  },
  {
   "cell_type": "code",
   "execution_count": null,
   "metadata": {},
   "outputs": [],
   "source": []
  },
  {
   "cell_type": "code",
   "execution_count": null,
   "metadata": {},
   "outputs": [],
   "source": []
  },
  {
   "cell_type": "code",
   "execution_count": null,
   "metadata": {},
   "outputs": [],
   "source": []
  },
  {
   "cell_type": "markdown",
   "metadata": {},
   "source": [
    "# //////////////////////////"
   ]
  },
  {
   "cell_type": "code",
   "execution_count": 65,
   "metadata": {},
   "outputs": [],
   "source": [
    "rf = RandomForestClassifier(n_estimators=800, max_depth=10)"
   ]
  },
  {
   "cell_type": "code",
   "execution_count": 66,
   "metadata": {},
   "outputs": [
    {
     "data": {
      "text/plain": [
       "RandomForestClassifier(bootstrap=True, class_weight=None, criterion='gini',\n",
       "                       max_depth=10, max_features='auto', max_leaf_nodes=None,\n",
       "                       min_impurity_decrease=0.0, min_impurity_split=None,\n",
       "                       min_samples_leaf=1, min_samples_split=2,\n",
       "                       min_weight_fraction_leaf=0.0, n_estimators=800,\n",
       "                       n_jobs=None, oob_score=False, random_state=None,\n",
       "                       verbose=0, warm_start=False)"
      ]
     },
     "execution_count": 66,
     "metadata": {},
     "output_type": "execute_result"
    }
   ],
   "source": [
    "rf"
   ]
  },
  {
   "cell_type": "code",
   "execution_count": 67,
   "metadata": {},
   "outputs": [],
   "source": [
    "rf.fit(X_train, y_train)\n",
    "y_pred = rf.predict(X_test)\n",
    "y_proba = rf.predict_proba(X_test)\n",
    "importances = rf.feature_importances_"
   ]
  },
  {
   "cell_type": "code",
   "execution_count": 68,
   "metadata": {},
   "outputs": [
    {
     "data": {
      "text/plain": [
       "0.719351408825093"
      ]
     },
     "execution_count": 68,
     "metadata": {},
     "output_type": "execute_result"
    }
   ],
   "source": [
    "roc_auc_score(y_test, y_pred)"
   ]
  },
  {
   "cell_type": "code",
   "execution_count": 69,
   "metadata": {},
   "outputs": [],
   "source": [
    "slib = zip(X_train.columns, importances)"
   ]
  },
  {
   "cell_type": "code",
   "execution_count": 70,
   "metadata": {},
   "outputs": [],
   "source": [
    "slib = list(slib)"
   ]
  },
  {
   "cell_type": "code",
   "execution_count": 71,
   "metadata": {},
   "outputs": [
    {
     "data": {
      "text/plain": [
       "[('home_wp', 0.08095820703211984),\n",
       " ('away_wp', 0.07992160905540426),\n",
       " ('yardline_100', 0.08075976589294083),\n",
       " ('home_timeouts_remaining', 0.023879708836493225),\n",
       " ('away_timeouts_remaining', 0.012627926487042017),\n",
       " ('quarter_seconds_remaining', 0.08933020741334616),\n",
       " ('half_seconds_remaining', 0.10108441983147136),\n",
       " ('game_seconds_remaining', 0.08509828584226051),\n",
       " ('qtr', 0.01889252669627788),\n",
       " ('down', 0.06155900708370668),\n",
       " ('goal_to_go', 0.005632973920216781),\n",
       " ('ydstogo', 0.05774050765607033),\n",
       " ('score_differential', 0.0900153802541809),\n",
       " ('shotgun', 0.20307272781258645),\n",
       " ('no_huddle', 0.009426746185882896)]"
      ]
     },
     "execution_count": 71,
     "metadata": {},
     "output_type": "execute_result"
    }
   ],
   "source": [
    "slib"
   ]
  },
  {
   "cell_type": "code",
   "execution_count": 72,
   "metadata": {},
   "outputs": [
    {
     "data": {
      "image/png": "[encoded data removed]",
      "text/plain": [
       "<Figure size 720x720 with 1 Axes>"
      ]
     },
     "metadata": {
      "needs_background": "light"
     },
     "output_type": "display_data"
    }
   ],
   "source": [
    "plt.figure(figsize=(10,10))\n",
    "splot = sns.barplot(X_train.columns, importances, color='#4F2683', alpha=.5)\n",
    "plt.xticks(rotation=60)\n",
    "plt.title('Feature Importance - Random Forest', fontsize=20)\n",
    "plt.xlabel('Feature', fontsize=16)\n",
    "plt.xticks()\n",
    "plt.tight_layout()\n",
    "plt.ylabel('Importance Level', fontsize=16)\n",
    "for p in splot.patches:\n",
    "    splot.annotate(format(p.get_height(), '.2f'), (p.get_x() + p.get_width() / 2., p.get_height()), \n",
    "                   ha = 'center', va = 'center', xytext = (0, 10), textcoords = 'offset points')\n",
    "                   \n"
   ]
  },
  {
   "cell_type": "code",
   "execution_count": 73,
   "metadata": {},
   "outputs": [
    {
     "data": {
      "text/plain": [
       "Index(['home_wp', 'away_wp', 'yardline_100', 'home_timeouts_remaining',\n",
       "       'away_timeouts_remaining', 'quarter_seconds_remaining',\n",
       "       'half_seconds_remaining', 'game_seconds_remaining', 'qtr', 'down',\n",
       "       'goal_to_go', 'ydstogo', 'score_differential', 'shotgun', 'no_huddle'],\n",
       "      dtype='object')"
      ]
     },
     "execution_count": 73,
     "metadata": {},
     "output_type": "execute_result"
    }
   ],
   "source": [
    "X_train.columns"
   ]
  },
  {
   "cell_type": "code",
   "execution_count": 74,
   "metadata": {},
   "outputs": [],
   "source": [
    "feat_imort = pd.DataFrame(X_train.columns).T"
   ]
  },
  {
   "cell_type": "code",
   "execution_count": 75,
   "metadata": {},
   "outputs": [
    {
     "data": {
      "text/html": [
       "<div>\n",
       "<style scoped>\n",
       "    .dataframe tbody tr th:only-of-type {\n",
       "        vertical-align: middle;\n",
       "    }\n",
       "\n",
       "    .dataframe tbody tr th {\n",
       "        vertical-align: top;\n",
       "    }\n",
       "\n",
       "    .dataframe thead th {\n",
       "        text-align: right;\n",
       "    }\n",
       "</style>\n",
       "<table border=\"1\" class=\"dataframe\">\n",
       "  <thead>\n",
       "    <tr style=\"text-align: right;\">\n",
       "      <th></th>\n",
       "      <th>0</th>\n",
       "      <th>1</th>\n",
       "      <th>2</th>\n",
       "      <th>3</th>\n",
       "      <th>4</th>\n",
       "      <th>5</th>\n",
       "      <th>6</th>\n",
       "      <th>7</th>\n",
       "      <th>8</th>\n",
       "      <th>9</th>\n",
       "      <th>10</th>\n",
       "      <th>11</th>\n",
       "      <th>12</th>\n",
       "      <th>13</th>\n",
       "      <th>14</th>\n",
       "    </tr>\n",
       "  </thead>\n",
       "  <tbody>\n",
       "    <tr>\n",
       "      <th>0</th>\n",
       "      <td>home_wp</td>\n",
       "      <td>away_wp</td>\n",
       "      <td>yardline_100</td>\n",
       "      <td>home_timeouts_remaining</td>\n",
       "      <td>away_timeouts_remaining</td>\n",
       "      <td>quarter_seconds_remaining</td>\n",
       "      <td>half_seconds_remaining</td>\n",
       "      <td>game_seconds_remaining</td>\n",
       "      <td>qtr</td>\n",
       "      <td>down</td>\n",
       "      <td>goal_to_go</td>\n",
       "      <td>ydstogo</td>\n",
       "      <td>score_differential</td>\n",
       "      <td>shotgun</td>\n",
       "      <td>no_huddle</td>\n",
       "    </tr>\n",
       "  </tbody>\n",
       "</table>\n",
       "</div>"
      ],
      "text/plain": [
       "        0        1             2                        3   \\\n",
       "0  home_wp  away_wp  yardline_100  home_timeouts_remaining   \n",
       "\n",
       "                        4                          5                       6   \\\n",
       "0  away_timeouts_remaining  quarter_seconds_remaining  half_seconds_remaining   \n",
       "\n",
       "                       7    8     9           10       11                  12  \\\n",
       "0  game_seconds_remaining  qtr  down  goal_to_go  ydstogo  score_differential   \n",
       "\n",
       "        13         14  \n",
       "0  shotgun  no_huddle  "
      ]
     },
     "execution_count": 75,
     "metadata": {},
     "output_type": "execute_result"
    }
   ],
   "source": [
    "feat_imort"
   ]
  },
  {
   "cell_type": "code",
   "execution_count": 76,
   "metadata": {},
   "outputs": [
    {
     "data": {
      "text/plain": [
       "array([[ 58,  32],\n",
       "       [ 43, 166]])"
      ]
     },
     "execution_count": 76,
     "metadata": {},
     "output_type": "execute_result"
    }
   ],
   "source": [
    "confusion_matrix(y_test, y_pred)"
   ]
  },
  {
   "cell_type": "code",
   "execution_count": 77,
   "metadata": {},
   "outputs": [
    {
     "name": "stdout",
     "output_type": "stream",
     "text": [
      "[[ 58  32]\n",
      " [ 43 166]]\n",
      "              precision    recall  f1-score   support\n",
      "\n",
      "           0       0.57      0.64      0.61        90\n",
      "           1       0.84      0.79      0.82       209\n",
      "\n",
      "    accuracy                           0.75       299\n",
      "   macro avg       0.71      0.72      0.71       299\n",
      "weighted avg       0.76      0.75      0.75       299\n",
      "\n",
      "0.7491638795986622\n"
     ]
    }
   ],
   "source": [
    "print(confusion_matrix(y_test,y_pred))\n",
    "print(classification_report(y_test,y_pred))\n",
    "print(accuracy_score(y_test, y_pred))"
   ]
  },
  {
   "cell_type": "markdown",
   "metadata": {},
   "source": [
    "# XG BOOST"
   ]
  },
  {
   "cell_type": "code",
   "execution_count": 78,
   "metadata": {},
   "outputs": [],
   "source": [
    "# https://www.kdnuggets.com/2017/03/simple-xgboost-tutorial-iris-dataset.html"
   ]
  },
  {
   "cell_type": "code",
   "execution_count": 79,
   "metadata": {},
   "outputs": [],
   "source": [
    "import xgboost as xgb\n",
    "from xgboost.sklearn import XGBClassifier"
   ]
  },
  {
   "cell_type": "code",
   "execution_count": 80,
   "metadata": {},
   "outputs": [
    {
     "data": {
      "text/plain": [
       "XGBClassifier(base_score=0.5, booster='gbtree', colsample_bylevel=1,\n",
       "              colsample_bynode=1, colsample_bytree=1, gamma=0,\n",
       "              learning_rate=0.1, max_delta_step=0, max_depth=3,\n",
       "              min_child_weight=1, missing=None, n_estimators=100, n_jobs=1,\n",
       "              nthread=None, objective='binary:logistic', random_state=0,\n",
       "              reg_alpha=0, reg_lambda=1, scale_pos_weight=1, seed=None,\n",
       "              silent=None, subsample=1, verbosity=1)"
      ]
     },
     "execution_count": 80,
     "metadata": {},
     "output_type": "execute_result"
    }
   ],
   "source": [
    "xgb = XGBClassifier()\n",
    "xgb.fit(X_train, y_train)"
   ]
  },
  {
   "cell_type": "code",
   "execution_count": 81,
   "metadata": {},
   "outputs": [],
   "source": [
    "y_pred = xgb.predict(X_test)\n",
    "accuracy = accuracy_score(y_test, y_pred)"
   ]
  },
  {
   "cell_type": "code",
   "execution_count": 82,
   "metadata": {},
   "outputs": [
    {
     "data": {
      "text/plain": [
       "0.7224080267558528"
      ]
     },
     "execution_count": 82,
     "metadata": {},
     "output_type": "execute_result"
    }
   ],
   "source": [
    "accuracy"
   ]
  },
  {
   "cell_type": "code",
   "execution_count": 83,
   "metadata": {},
   "outputs": [],
   "source": [
    "# dtrain = xgb.DMatrix(X_train, label=y_train)\n",
    "# dtest = xgb.DMatrix(X_test, label=y_test)"
   ]
  },
  {
   "cell_type": "code",
   "execution_count": 84,
   "metadata": {},
   "outputs": [],
   "source": [
    "# xgb.__version__"
   ]
  },
  {
   "cell_type": "code",
   "execution_count": 85,
   "metadata": {},
   "outputs": [],
   "source": [
    "# xgb.plot_tree(xg_reg,num_trees=0)\n",
    "# plt.rcParams['figure.figsize'] = [50, 10]\n",
    "# plt.show()"
   ]
  },
  {
   "cell_type": "code",
   "execution_count": 86,
   "metadata": {},
   "outputs": [],
   "source": [
    "# data_dmatrix = xgb.DMatrix(data=X,label=y)"
   ]
  },
  {
   "cell_type": "code",
   "execution_count": 87,
   "metadata": {},
   "outputs": [],
   "source": [
    "# xg_reg = xgb.train(params=params, dtrain=data_dmatrix, num_boost_round=10)"
   ]
  },
  {
   "cell_type": "code",
   "execution_count": 88,
   "metadata": {},
   "outputs": [],
   "source": [
    "# xgb.plot_importance(xg_reg)\n",
    "# plt.rcParams['figure.figsize'] = [5, 5]\n",
    "# plt.show()"
   ]
  },
  {
   "cell_type": "code",
   "execution_count": 89,
   "metadata": {},
   "outputs": [
    {
     "data": {
      "text/html": [
       "<div>\n",
       "<style scoped>\n",
       "    .dataframe tbody tr th:only-of-type {\n",
       "        vertical-align: middle;\n",
       "    }\n",
       "\n",
       "    .dataframe tbody tr th {\n",
       "        vertical-align: top;\n",
       "    }\n",
       "\n",
       "    .dataframe thead th {\n",
       "        text-align: right;\n",
       "    }\n",
       "</style>\n",
       "<table border=\"1\" class=\"dataframe\">\n",
       "  <thead>\n",
       "    <tr style=\"text-align: right;\">\n",
       "      <th></th>\n",
       "      <th>home_wp</th>\n",
       "      <th>away_wp</th>\n",
       "      <th>yardline_100</th>\n",
       "      <th>home_timeouts_remaining</th>\n",
       "      <th>away_timeouts_remaining</th>\n",
       "      <th>quarter_seconds_remaining</th>\n",
       "      <th>half_seconds_remaining</th>\n",
       "      <th>game_seconds_remaining</th>\n",
       "      <th>qtr</th>\n",
       "      <th>down</th>\n",
       "      <th>goal_to_go</th>\n",
       "      <th>ydstogo</th>\n",
       "      <th>score_differential</th>\n",
       "      <th>shotgun</th>\n",
       "      <th>no_huddle</th>\n",
       "      <th>play_type</th>\n",
       "    </tr>\n",
       "    <tr>\n",
       "      <th>Unnamed: 0</th>\n",
       "      <th></th>\n",
       "      <th></th>\n",
       "      <th></th>\n",
       "      <th></th>\n",
       "      <th></th>\n",
       "      <th></th>\n",
       "      <th></th>\n",
       "      <th></th>\n",
       "      <th></th>\n",
       "      <th></th>\n",
       "      <th></th>\n",
       "      <th></th>\n",
       "      <th></th>\n",
       "      <th></th>\n",
       "      <th></th>\n",
       "      <th></th>\n",
       "    </tr>\n",
       "  </thead>\n",
       "  <tbody>\n",
       "    <tr>\n",
       "      <th>943</th>\n",
       "      <td>-0.145385</td>\n",
       "      <td>0.145385</td>\n",
       "      <td>0.960025</td>\n",
       "      <td>0.611376</td>\n",
       "      <td>0.558939</td>\n",
       "      <td>1.797918</td>\n",
       "      <td>1.761081</td>\n",
       "      <td>1.784537</td>\n",
       "      <td>-1.392196</td>\n",
       "      <td>-0.953008</td>\n",
       "      <td>-0.220048</td>\n",
       "      <td>0.373542</td>\n",
       "      <td>0.195221</td>\n",
       "      <td>0.803916</td>\n",
       "      <td>-0.270695</td>\n",
       "      <td>1</td>\n",
       "    </tr>\n",
       "    <tr>\n",
       "      <th>944</th>\n",
       "      <td>-0.009991</td>\n",
       "      <td>0.009991</td>\n",
       "      <td>0.581704</td>\n",
       "      <td>0.611376</td>\n",
       "      <td>0.558939</td>\n",
       "      <td>1.652684</td>\n",
       "      <td>1.690852</td>\n",
       "      <td>1.748040</td>\n",
       "      <td>-1.392196</td>\n",
       "      <td>0.226118</td>\n",
       "      <td>-0.220048</td>\n",
       "      <td>-1.913638</td>\n",
       "      <td>0.195221</td>\n",
       "      <td>-1.243911</td>\n",
       "      <td>-0.270695</td>\n",
       "      <td>0</td>\n",
       "    </tr>\n",
       "    <tr>\n",
       "      <th>945</th>\n",
       "      <td>-0.009991</td>\n",
       "      <td>0.009991</td>\n",
       "      <td>0.497633</td>\n",
       "      <td>0.611376</td>\n",
       "      <td>0.558939</td>\n",
       "      <td>1.507450</td>\n",
       "      <td>1.620623</td>\n",
       "      <td>1.711542</td>\n",
       "      <td>-1.392196</td>\n",
       "      <td>-0.953008</td>\n",
       "      <td>-0.220048</td>\n",
       "      <td>0.373542</td>\n",
       "      <td>0.195221</td>\n",
       "      <td>-1.243911</td>\n",
       "      <td>-0.270695</td>\n",
       "      <td>1</td>\n",
       "    </tr>\n",
       "    <tr>\n",
       "      <th>946</th>\n",
       "      <td>0.091554</td>\n",
       "      <td>-0.091554</td>\n",
       "      <td>-0.006795</td>\n",
       "      <td>0.611376</td>\n",
       "      <td>0.558939</td>\n",
       "      <td>1.377111</td>\n",
       "      <td>1.557597</td>\n",
       "      <td>1.678788</td>\n",
       "      <td>-1.392196</td>\n",
       "      <td>-0.953008</td>\n",
       "      <td>-0.220048</td>\n",
       "      <td>0.373542</td>\n",
       "      <td>0.195221</td>\n",
       "      <td>-1.243911</td>\n",
       "      <td>-0.270695</td>\n",
       "      <td>0</td>\n",
       "    </tr>\n",
       "    <tr>\n",
       "      <th>947</th>\n",
       "      <td>0.023857</td>\n",
       "      <td>-0.023857</td>\n",
       "      <td>-0.048831</td>\n",
       "      <td>0.611376</td>\n",
       "      <td>0.558939</td>\n",
       "      <td>1.239325</td>\n",
       "      <td>1.490970</td>\n",
       "      <td>1.644162</td>\n",
       "      <td>-1.392196</td>\n",
       "      <td>0.226118</td>\n",
       "      <td>-0.220048</td>\n",
       "      <td>0.119411</td>\n",
       "      <td>0.195221</td>\n",
       "      <td>0.803916</td>\n",
       "      <td>-0.270695</td>\n",
       "      <td>0</td>\n",
       "    </tr>\n",
       "  </tbody>\n",
       "</table>\n",
       "</div>"
      ],
      "text/plain": [
       "             home_wp   away_wp  yardline_100  home_timeouts_remaining  \\\n",
       "Unnamed: 0                                                              \n",
       "943        -0.145385  0.145385      0.960025                 0.611376   \n",
       "944        -0.009991  0.009991      0.581704                 0.611376   \n",
       "945        -0.009991  0.009991      0.497633                 0.611376   \n",
       "946         0.091554 -0.091554     -0.006795                 0.611376   \n",
       "947         0.023857 -0.023857     -0.048831                 0.611376   \n",
       "\n",
       "            away_timeouts_remaining  quarter_seconds_remaining  \\\n",
       "Unnamed: 0                                                       \n",
       "943                        0.558939                   1.797918   \n",
       "944                        0.558939                   1.652684   \n",
       "945                        0.558939                   1.507450   \n",
       "946                        0.558939                   1.377111   \n",
       "947                        0.558939                   1.239325   \n",
       "\n",
       "            half_seconds_remaining  game_seconds_remaining       qtr  \\\n",
       "Unnamed: 0                                                             \n",
       "943                       1.761081                1.784537 -1.392196   \n",
       "944                       1.690852                1.748040 -1.392196   \n",
       "945                       1.620623                1.711542 -1.392196   \n",
       "946                       1.557597                1.678788 -1.392196   \n",
       "947                       1.490970                1.644162 -1.392196   \n",
       "\n",
       "                down  goal_to_go   ydstogo  score_differential   shotgun  \\\n",
       "Unnamed: 0                                                                 \n",
       "943        -0.953008   -0.220048  0.373542            0.195221  0.803916   \n",
       "944         0.226118   -0.220048 -1.913638            0.195221 -1.243911   \n",
       "945        -0.953008   -0.220048  0.373542            0.195221 -1.243911   \n",
       "946        -0.953008   -0.220048  0.373542            0.195221 -1.243911   \n",
       "947         0.226118   -0.220048  0.119411            0.195221  0.803916   \n",
       "\n",
       "            no_huddle  play_type  \n",
       "Unnamed: 0                        \n",
       "943         -0.270695          1  \n",
       "944         -0.270695          0  \n",
       "945         -0.270695          1  \n",
       "946         -0.270695          0  \n",
       "947         -0.270695          0  "
      ]
     },
     "execution_count": 89,
     "metadata": {},
     "output_type": "execute_result"
    }
   ],
   "source": [
    "final_df.head()"
   ]
  },
  {
   "cell_type": "code",
   "execution_count": 90,
   "metadata": {},
   "outputs": [],
   "source": [
    "shotgun_df = final_df[(final_df['shotgun'] > 0)]"
   ]
  },
  {
   "cell_type": "code",
   "execution_count": 91,
   "metadata": {},
   "outputs": [
    {
     "data": {
      "image/png": "[encoded data removed]",
      "text/plain": [
       "<Figure size 720x720 with 1 Axes>"
      ]
     },
     "metadata": {},
     "output_type": "display_data"
    }
   ],
   "source": [
    "plt.figure(figsize=(10,10))\n",
    "plt.pie(shotgun_df['play_type'].value_counts(), labels=['Pass', 'Run'], colors=['#4F2683', '#FFC62F'], autopct='%.2f%%', textprops={'fontsize': 30}, wedgeprops={'linewidth': 3}, labeldistance=1.2, pctdistance=.75, radius=1.4, startangle=100)\n",
    "centre_circle = plt.Circle((0,0),0.65,color='white', fc='black',linewidth=3)\n",
    "fig = plt.gcf()\n",
    "fig.gca().add_artist(centre_circle)\n",
    "plt.rcParams['text.color'] = 'white'\n",
    "plt.axis('equal')\n",
    "plt.tight_layout()\n",
    "plt.show()"
   ]
  },
  {
   "cell_type": "code",
   "execution_count": null,
   "metadata": {},
   "outputs": [],
   "source": []
  },
  {
   "cell_type": "code",
   "execution_count": null,
   "metadata": {},
   "outputs": [],
   "source": []
  },
  {
   "cell_type": "code",
   "execution_count": null,
   "metadata": {},
   "outputs": [],
   "source": []
  },
  {
   "cell_type": "code",
   "execution_count": null,
   "metadata": {},
   "outputs": [],
   "source": []
  },
  {
   "cell_type": "code",
   "execution_count": 92,
   "metadata": {},
   "outputs": [],
   "source": [
    "def plot_confusion(y_true, y_hat):\n",
    "    labels = [0, 1]\n",
    "    cm = confusion_matrix(y_true, y_hat, labels)\n",
    "    print(cm)\n",
    "    fig = plt.figure(figsize=(10,10))\n",
    "    ax = fig.add_subplot(111)\n",
    "    cax = ax.matshow(cm)\n",
    "    plt.title('Confusion Matrix', fontsize=18)\n",
    "    fig.colorbar(cax)\n",
    "    ax.set_xticklabels([''] + labels)\n",
    "    ax.set_yticklabels([''] + labels)\n",
    "    plt.xlabel('Predicted', fontsize=14)\n",
    "    plt.ylabel('True', fontsize=14)\n",
    "    plt.show()"
   ]
  },
  {
   "cell_type": "code",
   "execution_count": 93,
   "metadata": {},
   "outputs": [
    {
     "name": "stdout",
     "output_type": "stream",
     "text": [
      "[[ 57  33]\n",
      " [ 50 159]]\n"
     ]
    },
    {
     "data": {
      "image/png": "[encoded data removed]",
      "text/plain": [
       "<Figure size 720x720 with 2 Axes>"
      ]
     },
     "metadata": {
      "needs_background": "light"
     },
     "output_type": "display_data"
    }
   ],
   "source": [
    "plot_confusion(y_test, y_pred)"
   ]
  },
  {
   "cell_type": "code",
   "execution_count": 94,
   "metadata": {},
   "outputs": [
    {
     "data": {
      "image/png": "[encoded data removed]",
      "text/plain": [
       "<Figure size 720x720 with 1 Axes>"
      ]
     },
     "metadata": {
      "needs_background": "light"
     },
     "output_type": "display_data"
    }
   ],
   "source": [
    "fpr, tpr, threshold = roc_curve(y_test, y_proba[:,1])\n",
    "roc_auc = roc_auc_score(y_test, y_proba[:,1])\n",
    "\n",
    "import matplotlib.pyplot as plt\n",
    "plt.figure(figsize=(10,10))\n",
    "plt.title('Receiver Operating Characteristic', fontsize=18)\n",
    "plt.plot(fpr, tpr, 'b', label = 'AUC = %0.2f' % roc_auc)\n",
    "plt.legend(loc = 'lower right', fontsize=16)\n",
    "plt.plot([0, 1], [0, 1],'r--')\n",
    "plt.xlim([0, 1])\n",
    "plt.ylim([0, 1])\n",
    "plt.ylabel('True Positive Rate', fontsize=14)\n",
    "plt.xlabel('False Positive Rate', fontsize=14)\n",
    "plt.tight_layout()\n",
    "plt.rcParams['text.color'] = 'black'\n",
    "plt.show()"
   ]
  },
  {
   "cell_type": "code",
   "execution_count": null,
   "metadata": {},
   "outputs": [],
   "source": []
  },
  {
   "cell_type": "code",
   "execution_count": null,
   "metadata": {},
   "outputs": [],
   "source": []
  }
 ],
 "metadata": {
  "kernelspec": {
   "display_name": "Python 3",
   "language": "python",
   "name": "python3"
  },
  "language_info": {
   "codemirror_mode": {
    "name": "ipython",
    "version": 3
   },
   "file_extension": ".py",
   "mimetype": "text/x-python",
   "name": "python",
   "nbconvert_exporter": "python",
   "pygments_lexer": "ipython3",
   "version": "3.7.3"
  }
 },
 "nbformat": 4,
 "nbformat_minor": 4
}
